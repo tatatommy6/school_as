{
 "cells": [
  {
   "cell_type": "code",
   "execution_count": 1,
   "id": "ebd0b026",
   "metadata": {},
   "outputs": [
    {
     "ename": "ModuleNotFoundError",
     "evalue": "No module named 'RobokitRS.RobokitRS_config'; 'RobokitRS' is not a package",
     "output_type": "error",
     "traceback": [
      "\u001b[0;31m---------------------------------------------------------------------------\u001b[0m",
      "\u001b[0;31mModuleNotFoundError\u001b[0m                       Traceback (most recent call last)",
      "Cell \u001b[0;32mIn[1], line 1\u001b[0m\n\u001b[0;32m----> 1\u001b[0m \u001b[38;5;28;01mfrom\u001b[39;00m\u001b[38;5;250m \u001b[39m\u001b[38;5;21;01mRobokitRS\u001b[39;00m\u001b[38;5;21;01m.\u001b[39;00m\u001b[38;5;21;01mRobokitRS\u001b[39;00m\u001b[38;5;250m \u001b[39m\u001b[38;5;28;01mimport\u001b[39;00m \u001b[38;5;241m*\u001b[39m\n\u001b[1;32m      2\u001b[0m \u001b[38;5;28;01mimport\u001b[39;00m\u001b[38;5;250m \u001b[39m\u001b[38;5;21;01mtime\u001b[39;00m\n\u001b[1;32m      4\u001b[0m rs \u001b[38;5;241m=\u001b[39m RobokitRS()\n",
      "File \u001b[0;32m~/Desktop/school_as/RobokitRS.py:9\u001b[0m\n\u001b[1;32m      6\u001b[0m \u001b[38;5;28;01mfrom\u001b[39;00m\u001b[38;5;250m \u001b[39m\u001b[38;5;21;01mcollections\u001b[39;00m\u001b[38;5;250m \u001b[39m\u001b[38;5;28;01mimport\u001b[39;00m deque\n\u001b[1;32m      7\u001b[0m \u001b[38;5;28;01mimport\u001b[39;00m\u001b[38;5;250m \u001b[39m\u001b[38;5;21;01mpkg_resources\u001b[39;00m\n\u001b[0;32m----> 9\u001b[0m \u001b[38;5;28;01mfrom\u001b[39;00m\u001b[38;5;250m \u001b[39m\u001b[38;5;21;01mRobokitRS\u001b[39;00m\u001b[38;5;21;01m.\u001b[39;00m\u001b[38;5;21;01mRobokitRS_config\u001b[39;00m\u001b[38;5;250m \u001b[39m\u001b[38;5;28;01mimport\u001b[39;00m \u001b[38;5;241m*\u001b[39m\n\u001b[1;32m     11\u001b[0m MAXRATE \u001b[38;5;241m=\u001b[39m \u001b[38;5;241m0.395\u001b[39m\n\u001b[1;32m     12\u001b[0m ALPHARATIO \u001b[38;5;241m=\u001b[39m \u001b[38;5;241m0.39215\u001b[39m\n",
      "\u001b[0;31mModuleNotFoundError\u001b[0m: No module named 'RobokitRS.RobokitRS_config'; 'RobokitRS' is not a package"
     ]
    }
   ],
   "source": [
    "from RobokitRS.RobokitRS import *\n",
    "import time\n",
    "\n",
    "rs = RobokitRS()\n",
    "help(rs)\n",
    "help(rs.port_open)"
   ]
  },
  {
   "cell_type": "code",
   "execution_count": null,
   "id": "9e82245a",
   "metadata": {},
   "outputs": [],
   "source": [
    "rs.motor_write(0,1,15)\n",
    "time.sleep(1)\n",
    "rs.motor_write(0,0,0)"
   ]
  },
  {
   "cell_type": "code",
   "execution_count": null,
   "id": "4205a863",
   "metadata": {},
   "outputs": [],
   "source": [
    "rs.motor_write2(1,1,15)\n",
    "time.sleep(1)\n",
    "rs.motor_write2(1,0,0)"
   ]
  },
  {
   "cell_type": "code",
   "execution_count": null,
   "id": "96befc5f",
   "metadata": {},
   "outputs": [],
   "source": [
    "rs.motor_write2(1,'cw',15)\n",
    "time.sleep(1)\n",
    "rs.motor_write2(1,'ccw',0)"
   ]
  },
  {
   "cell_type": "code",
   "execution_count": null,
   "id": "2a5ace4d",
   "metadata": {},
   "outputs": [
    {
     "name": "stdout",
     "output_type": "stream",
     "text": [
      "입력한 값:  5, 누적 합계:  5\n",
      "입력한 값: 10, 누적 합계: 15\n",
      "입력한 값:  7, 누적 합계: 22\n",
      "현재 누적 합계는 22 입니다.\n",
      "누적 합계가 초기화 되었습니다.\n",
      "현재 누적 합계는 0 입니다.\n"
     ]
    }
   ],
   "source": [
    "# 여기에 코드 입력\n",
    "class Calculator:\n",
    "    def __init__(self):\n",
    "        \"\"\"누적 합계를 0으로 초기화\"\"\"\n",
    "        self.total = 0\n",
    "\n",
    "    def total_sum(self, value):\n",
    "        \"\"\"값을 누적 합계에 추가하고 출력\"\"\"\n",
    "        calc.total = calc.total + value\n",
    "        print(f\"입력한 값: {value:2}, 누적 합계: {calc.total:2}\")\n",
    "\n",
    "    def reset_total_sum(self):\n",
    "        \"\"\"누적 합계를 0으로 초기화\"\"\"\n",
    "        self.total = 0\n",
    "        print(\"누적 합계가 초기화 되었습니다.\")\n",
    "\n",
    "    def print_total_sum(self):\n",
    "        \"\"\"현재 누적 합계를 출력\"\"\"\n",
    "        print(f\"현재 누적 합계는 {self.total} 입니다.\")\n",
    "# 객체 만들기\n",
    "calc = Calculator()\n",
    "# 메서드 호출\n",
    "calc.total_sum(5)\n",
    "calc.total_sum(10)\n",
    "calc.total_sum(7)\n",
    "calc.print_total_sum()         # 누적합 출력\n",
    "calc.reset_total_sum()         # 누적합 초기화\n",
    "calc.print_total_sum()         # 초기화 확인\n"
   ]
  },
  {
   "cell_type": "code",
   "execution_count": 1,
   "id": "c83aa749",
   "metadata": {},
   "outputs": [
    {
     "name": "stdout",
     "output_type": "stream",
     "text": [
      "camera module ready\n"
     ]
    }
   ],
   "source": [
    "from RoboCam.robocam import *\n",
    "import time\n",
    "rcam=RoboCam()"
   ]
  },
  {
   "cell_type": "code",
   "execution_count": 2,
   "id": "ddc1cd99",
   "metadata": {},
   "outputs": [
    {
     "name": "stderr",
     "output_type": "stream",
     "text": [
      "2025-05-06 10:02:07.404 python[25615:766469] WARNING: AVCaptureDeviceTypeExternal is deprecated for Continuity Cameras. Please use AVCaptureDeviceTypeContinuityCamera and add NSCameraUseContinuityCameraDeviceType to your Info.plist.\n"
     ]
    },
    {
     "name": "stdout",
     "output_type": "stream",
     "text": [
      "webcam stream ready\n",
      "camera event module ready\n"
     ]
    }
   ],
   "source": [
    "rcam.WebcamStreamInit()\n",
    "rcam.WebcamStream()"
   ]
  },
  {
   "cell_type": "code",
   "execution_count": null,
   "id": "2fa510f9",
   "metadata": {},
   "outputs": [
    {
     "name": "stdout",
     "output_type": "stream",
     "text": [
      "Facedetector initialized\n",
      "Facedetector is already working.\n"
     ]
    }
   ],
   "source": [
    "rcam.FacedetectorInit()\n",
    "rcam.FacedetectorStart()"
   ]
  },
  {
   "cell_type": "code",
   "execution_count": null,
   "id": "33c29142",
   "metadata": {},
   "outputs": [
    {
     "name": "stdout",
     "output_type": "stream",
     "text": [
      "Facedetector off\n"
     ]
    }
   ],
   "source": [
    "rcam.FacedetectorStop()"
   ]
  }
 ],
 "metadata": {
  "kernelspec": {
   "display_name": "school",
   "language": "python",
   "name": "python3"
  },
  "language_info": {
   "codemirror_mode": {
    "name": "ipython",
    "version": 3
   },
   "file_extension": ".py",
   "mimetype": "text/x-python",
   "name": "python",
   "nbconvert_exporter": "python",
   "pygments_lexer": "ipython3",
   "version": "3.9.21"
  }
 },
 "nbformat": 4,
 "nbformat_minor": 5
}
