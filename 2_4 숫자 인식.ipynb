{
  "cells": [
    {
      "cell_type": "markdown",
      "metadata": {
        "id": "H02g7QhAif8O"
      },
      "source": [
        "### [RoboCam 라이브러리 가져오기]"
      ]
    },
    {
      "cell_type": "code",
      "execution_count": null,
      "metadata": {
        "id": "CdSiZ2vSif8Q",
        "outputId": "d3b584a9-d700-4054-db6a-50ef6f0d20e4"
      },
      "outputs": [
        {
          "name": "stdout",
          "output_type": "stream",
          "text": [
            "folders already exist\n",
            "camera module ready\n"
          ]
        }
      ],
      "source": [
        "from RoboCam.robocam import *\n",
        "import time\n",
        "rCam = RoboCam()"
      ]
    },
    {
      "cell_type": "markdown",
      "metadata": {
        "id": "xuZZYjTcif8R"
      },
      "source": [
        "### [ 스트리밍 준비/시작]"
      ]
    },
    {
      "cell_type": "code",
      "execution_count": null,
      "metadata": {
        "id": "tp6ZrPDJif8S",
        "outputId": "20a3b31c-137c-4898-f0a2-4ba9817db78b"
      },
      "outputs": [
        {
          "name": "stdout",
          "output_type": "stream",
          "text": [
            "webcam stream ready\n",
            "camera event module ready\n"
          ]
        }
      ],
      "source": [
        "rCam.WebcamStreamInit()\n",
        "rCam.WebcamStream()"
      ]
    },
    {
      "cell_type": "markdown",
      "metadata": {
        "id": "-fnWhTMCif8S"
      },
      "source": [
        "### [숫자구별모듈 초기화/실행]"
      ]
    },
    {
      "cell_type": "code",
      "execution_count": null,
      "metadata": {
        "id": "xrild2ZBif8S",
        "outputId": "c4623e27-560b-45de-d75f-2ffff0a8b4c7"
      },
      "outputs": [
        {
          "name": "stdout",
          "output_type": "stream",
          "text": [
            "Number recognizer initialized\n"
          ]
        }
      ],
      "source": [
        "rCam.NumberRecognizerInit()\n",
        "rCam.NumberRecognizerStart()"
      ]
    },
    {
      "cell_type": "markdown",
      "metadata": {
        "id": "qbLPzFoyif8T"
      },
      "source": [
        "### [숫자 표시 함수]\n",
        "- DrawNumberArea(flag:bool) : 인식된 숫자의 영역을 표시할지 정하는 함수\n",
        "- DrawNumber(flag:bool) : \t인식된 숫자를 표시할지 정하는 함수\n",
        "- DrawNumberPoint(flag:bool) : 인식된 숫자의 좌표를 표시할지 정하는 함수\n",
        "- DrawNumberSize(flag:bool) : 인식된 숫자의 크기를 표시할지 정하는 함수"
      ]
    },
    {
      "cell_type": "code",
      "execution_count": null,
      "metadata": {
        "id": "rWTS-U_DNf5i"
      },
      "outputs": [],
      "source": [
        "# 인식된 숫자의 영역 표시 여부 off\n",
        "rCam.DrawNumberArea(False)"
      ]
    },
    {
      "cell_type": "code",
      "execution_count": null,
      "metadata": {
        "id": "9voMBqujNf5j"
      },
      "outputs": [],
      "source": [
        "# 인식된 숫자의 영역 표시 여부 on\n",
        "rCam.DrawNumberArea(True)"
      ]
    },
    {
      "cell_type": "code",
      "execution_count": null,
      "metadata": {
        "id": "sYF7eZHkNf5j"
      },
      "outputs": [],
      "source": [
        "# 인식된 숫자 표시 여부 off\n",
        "rCam.DrawNumber(False)"
      ]
    },
    {
      "cell_type": "code",
      "execution_count": null,
      "metadata": {
        "id": "nGsLZ2nPNf5j"
      },
      "outputs": [],
      "source": [
        "# 인식된 숫자 표시 여부 on\n",
        "rCam.DrawNumber(True)"
      ]
    },
    {
      "cell_type": "code",
      "execution_count": null,
      "metadata": {
        "id": "a1eT5aVMif8T"
      },
      "outputs": [],
      "source": [
        "# x,y 좌표 표시 off\n",
        "rCam.DrawNumberPoint(False)"
      ]
    },
    {
      "cell_type": "code",
      "execution_count": null,
      "metadata": {
        "id": "eGx5NZCgNf5j"
      },
      "outputs": [],
      "source": [
        "# x,y 좌표 표시 on\n",
        "rCam.DrawNumberPoint(True)"
      ]
    },
    {
      "cell_type": "code",
      "execution_count": null,
      "metadata": {
        "id": "6iYYisIhif8T"
      },
      "outputs": [],
      "source": [
        "# 인식된 숫자 크기를 표시 off\n",
        "rCam.DrawNumberSize(False)"
      ]
    },
    {
      "cell_type": "code",
      "execution_count": null,
      "metadata": {
        "id": "X61GH9B5if8T"
      },
      "outputs": [],
      "source": [
        "# 인식된 숫자 크기를 표시 on\n",
        "rCam.DrawNumberSize(True)"
      ]
    },
    {
      "cell_type": "markdown",
      "metadata": {
        "id": "uG1_ijRSif8T"
      },
      "source": [
        "### [인식된 숫자 출력]\n",
        "\n",
        "- GetRecognizerdNumbers() : 인식된 숫자를 문자열의 형태로 반환하는 함수\n",
        "- 문제점 : 인식이 안될때 None 출력됨"
      ]
    },
    {
      "cell_type": "markdown",
      "source": [
        "```python\n",
        "for i in range(10):\n",
        "    x=□.□\n",
        "    print(\"id  = \", x)\n",
        "    time.sleep(1)\n",
        "\n",
        "[결과]\n",
        "id  =  None\n",
        "id  =  None\n",
        "id  =  None\n",
        "id  =  None\n",
        "id  =  9\n",
        "id  =  None\n",
        "id  =  3\n",
        "id  =  2\n",
        "id  =  None\n",
        "id  =  7\n",
        "```"
      ],
      "metadata": {
        "id": "Q4AqsJ6mN0AD"
      }
    },
    {
      "cell_type": "code",
      "source": [
        "# 여기에 코드 작성\n",
        "for i in range(10):\n",
        "    x=□.□\n",
        "    print(\"id  = \", x)\n",
        "    time.sleep(1)"
      ],
      "metadata": {
        "id": "Yxwl4R6cN-V1"
      },
      "execution_count": null,
      "outputs": []
    },
    {
      "cell_type": "code",
      "source": [],
      "metadata": {
        "id": "6gX7AXdFOAO2"
      },
      "execution_count": null,
      "outputs": []
    },
    {
      "cell_type": "code",
      "source": [],
      "metadata": {
        "id": "xpI35CE3PJC8"
      },
      "execution_count": null,
      "outputs": []
    },
    {
      "cell_type": "markdown",
      "metadata": {
        "id": "vzjzm8W2if8T"
      },
      "source": [
        "### [숫자 인식 될때만 출력]\n",
        "- 숫자를 10번 출력하고 싶으나 인식 안된것도 포함되므로 10번 인식 안함"
      ]
    },
    {
      "cell_type": "markdown",
      "source": [
        "```python\n",
        "for i in range(10):\n",
        "    time.sleep(1)\n",
        "    x=□.□\n",
        "    if x == □.□:\n",
        "        continue\n",
        "    print(\"id  = \", x)\n",
        "\n",
        "[결과]\n",
        "id  =  5\n",
        "id  =  5\n",
        "id  =  1\n",
        "```"
      ],
      "metadata": {
        "id": "WF1RIMC-ODHW"
      }
    },
    {
      "cell_type": "code",
      "source": [
        "# 여기에 코드 작성\n",
        "for i in range(10):\n",
        "    time.sleep(1)\n",
        "    x=□.□\n",
        "    if x == □.□:\n",
        "        continue\n",
        "    print(\"id  = \", x)"
      ],
      "metadata": {
        "id": "kNfDYCLVOP6J"
      },
      "execution_count": null,
      "outputs": []
    },
    {
      "cell_type": "code",
      "source": [],
      "metadata": {
        "id": "rWCMMwN9OSn_"
      },
      "execution_count": null,
      "outputs": []
    },
    {
      "cell_type": "code",
      "source": [],
      "metadata": {
        "id": "owL5UAHPOUbk"
      },
      "execution_count": null,
      "outputs": []
    },
    {
      "cell_type": "markdown",
      "metadata": {
        "id": "aXgyw21Wif8U"
      },
      "source": [
        "### [숫자인식 무한 반복 정지버튼 누르면 정지]"
      ]
    },
    {
      "cell_type": "markdown",
      "source": [
        "```python\n",
        "try:\n",
        "    while True:\n",
        "        time.sleep(1)\n",
        "        x=□.□\n",
        "        if x == □.□:\n",
        "            continue\n",
        "        print(\"id  = \",x)\n",
        "except:\n",
        "    pass\n",
        "finally:\n",
        "    print('end')\n",
        "\n",
        "[결과]\n",
        "id  =  7\n",
        "id  =  7\n",
        "id  =  7\n",
        "id  =  9\n",
        "id  =  9\n",
        "id  =  2\n",
        "id  =  2\n",
        "end\n",
        "```"
      ],
      "metadata": {
        "id": "gAwZwxAzOEUZ"
      }
    },
    {
      "cell_type": "code",
      "source": [
        "# 여기에 코드 작성\n",
        "try:\n",
        "    while True:\n",
        "        time.sleep(1)\n",
        "        x=□.□\n",
        "        if x == □.□:\n",
        "            continue\n",
        "        print(\"id  = \",x)\n",
        "except:\n",
        "    pass\n",
        "finally:\n",
        "    print('end')"
      ],
      "metadata": {
        "id": "Q8ummAFBOjOS"
      },
      "execution_count": null,
      "outputs": []
    },
    {
      "cell_type": "code",
      "source": [],
      "metadata": {
        "id": "unuXBgWOOlz0"
      },
      "execution_count": null,
      "outputs": []
    },
    {
      "cell_type": "code",
      "source": [],
      "metadata": {
        "id": "D7yWFbvMOmru"
      },
      "execution_count": null,
      "outputs": []
    },
    {
      "cell_type": "markdown",
      "metadata": {
        "id": "yn9dJ1GVif8V"
      },
      "source": [
        "### [인식된 숫자 출력 후 종료]\n",
        "\n",
        "- 숫자 인식 한번만 할때사용"
      ]
    },
    {
      "cell_type": "markdown",
      "source": [
        "```python\n",
        "while True:\n",
        "    time.sleep(1)\n",
        "    x=□.□\n",
        "    if x == □.□:\n",
        "        continue\n",
        "    print(\"id  = \",x)\n",
        "    break\n",
        "\n",
        "[결과]\n",
        "id  =  9\n",
        "```"
      ],
      "metadata": {
        "id": "E1dCCAgwOFXu"
      }
    },
    {
      "cell_type": "code",
      "source": [
        "# 여기에 코드 작성\n",
        "while True:\n",
        "    time.sleep(1)\n",
        "    x=□.□\n",
        "    if x == □.□:\n",
        "        continue\n",
        "    print(\"id  = \",x)\n",
        "    break"
      ],
      "metadata": {
        "id": "hVb2P8JXO2bb"
      },
      "execution_count": null,
      "outputs": []
    },
    {
      "cell_type": "code",
      "source": [],
      "metadata": {
        "id": "_ddYzZ3wO9No"
      },
      "execution_count": null,
      "outputs": []
    },
    {
      "cell_type": "code",
      "source": [],
      "metadata": {
        "id": "TDLtC5XaO_Cs"
      },
      "execution_count": null,
      "outputs": []
    },
    {
      "cell_type": "markdown",
      "metadata": {
        "id": "vqUcEt3Sif8S"
      },
      "source": [
        "### [숫자구별모듈 정지]"
      ]
    },
    {
      "cell_type": "code",
      "execution_count": null,
      "metadata": {
        "id": "0Ru81ATfif8S",
        "outputId": "339f4e04-7530-4362-aeb6-9bee3e869420"
      },
      "outputs": [
        {
          "name": "stdout",
          "output_type": "stream",
          "text": [
            "Number recognizer off\n"
          ]
        }
      ],
      "source": [
        "rCam.NumberRecognizerStop()"
      ]
    },
    {
      "cell_type": "markdown",
      "metadata": {
        "id": "GCs-7Tblif8U"
      },
      "source": [
        "### [영상 스트리밍 종료]"
      ]
    },
    {
      "cell_type": "code",
      "execution_count": null,
      "metadata": {
        "id": "VYcpQCMxif8U",
        "outputId": "45bf2bbc-2335-48f3-a197-18942d34fb4e"
      },
      "outputs": [
        {
          "name": "stdout",
          "output_type": "stream",
          "text": [
            "Stream stopped\n",
            "Webcam off\n"
          ]
        }
      ],
      "source": [
        "rCam.WebcamStreamOff()"
      ]
    },
    {
      "cell_type": "code",
      "execution_count": null,
      "metadata": {
        "id": "YqKN_A8sif8V"
      },
      "outputs": [],
      "source": []
    }
  ],
  "metadata": {
    "colab": {
      "provenance": [],
      "toc_visible": true
    },
    "kernelspec": {
      "display_name": "Python 3 (ipykernel)",
      "language": "python",
      "name": "python3"
    },
    "language_info": {
      "codemirror_mode": {
        "name": "ipython",
        "version": 3
      },
      "file_extension": ".py",
      "mimetype": "text/x-python",
      "name": "python",
      "nbconvert_exporter": "python",
      "pygments_lexer": "ipython3",
      "version": "3.11.5"
    }
  },
  "nbformat": 4,
  "nbformat_minor": 0
}