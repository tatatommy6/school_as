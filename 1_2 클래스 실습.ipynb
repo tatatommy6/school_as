{
  "nbformat": 4,
  "nbformat_minor": 0,
  "metadata": {
    "colab": {
      "provenance": [],
      "toc_visible": true
    },
    "kernelspec": {
      "name": "python3",
      "display_name": "Python 3"
    },
    "language_info": {
      "name": "python"
    }
  },
  "cells": [
    {
      "cell_type": "markdown",
      "source": [
        "# [함수 만들고 클래스로 바꾸기]"
      ],
      "metadata": {
        "id": "IsbroNHQ0oMs"
      }
    },
    {
      "cell_type": "markdown",
      "source": [
        "# [1] 값을 누적하는 함수 만들기\n",
        "\n",
        "- total_sum(5)   # 결과 5\n",
        "- total_sum(7)   # 결과 12"
      ],
      "metadata": {
        "id": "CwxVlW4AapzV"
      }
    },
    {
      "cell_type": "markdown",
      "source": [
        "```python\n",
        "s = 0     # 누적 합계를 저장할 전역 변수\n",
        "def total_sum(□):\n",
        "    # 호출할 때마다 값을 누적하고, 현재 누적합을 출력합니다.\n",
        "    □\n",
        "    □\n",
        "    print(f\"입력한 값: □, 누적 합계: □\")\n",
        "def reset_total_sum():\n",
        "    # 누적합을 0으로 초기화합니다.\n",
        "    □\n",
        "    □\n",
        "    print(\"누적 합계가 초기화 되었습니다.\")\n",
        "def print_total_sum():\n",
        "    # 현재 누적 합계를 출력합니다.\n",
        "    print(f\"현재 누적 합계는 □ 입니다.\")\n",
        "\n",
        "[함수호출]\n",
        "total_sum(5)             \n",
        "total_sum(10)             \n",
        "total_sum(7)              \n",
        "print_total_sum()         # 누적합 출력\n",
        "reset_total_sum()         # 누적합 초기화\n",
        "print_total_sum()         # 초기화 확인\n",
        "\n",
        "[결과]\n",
        "입력한 값:  5, 누적 합계:  5\n",
        "입력한 값: 10, 누적 합계: 15\n",
        "입력한 값:  7, 누적 합계: 22\n",
        "현재 누적 합계는 22 입니다.\n",
        "누적 합계가 초기화 되었습니다.\n",
        "현재 누적 합계는 0 입니다.\n",
        "```"
      ],
      "metadata": {
        "id": "e5dfQMV8a61-"
      }
    },
    {
      "cell_type": "code",
      "source": [
        "# 여기에 코드 입력\n",
        "s = 0     # 누적 합계를 저장할 전역 변수\n",
        "def total_sum(□):\n",
        "    # 호출할 때마다 값을 누적하고, 현재 누적합을 출력합니다.\n",
        "    □\n",
        "    □\n",
        "    print(f\"입력한 값: □, 누적 합계: □\")\n",
        "def reset_total_sum():\n",
        "    # 누적합을 0으로 초기화합니다.\n",
        "    □\n",
        "    □\n",
        "    print(\"누적 합계가 초기화 되었습니다.\")\n",
        "def print_total_sum():\n",
        "    # 현재 누적 합계를 출력합니다.\n",
        "    print(f\"현재 누적 합계는 □ 입니다.\")"
      ],
      "metadata": {
        "id": "hbViJyIubCDM"
      },
      "execution_count": null,
      "outputs": []
    },
    {
      "cell_type": "code",
      "source": [
        "# 함수호출\n",
        "total_sum(5)\n",
        "total_sum(10)\n",
        "total_sum(7)\n",
        "print_total_sum()         # 누적합 출력\n",
        "reset_total_sum()         # 누적합 초기화\n",
        "print_total_sum()         # 초기화 확인"
      ],
      "metadata": {
        "id": "fBapZ23rbOX3"
      },
      "execution_count": null,
      "outputs": []
    },
    {
      "cell_type": "code",
      "source": [],
      "metadata": {
        "id": "atatNJyebLRk"
      },
      "execution_count": null,
      "outputs": []
    },
    {
      "cell_type": "code",
      "source": [],
      "metadata": {
        "id": "FOE55pDgBQBs"
      },
      "execution_count": null,
      "outputs": []
    },
    {
      "cell_type": "markdown",
      "source": [
        "# [2] 클래스 만들기"
      ],
      "metadata": {
        "id": "ULn9tIsMb7nc"
      }
    },
    {
      "cell_type": "markdown",
      "source": [
        "## 1) 클래스 특징\n",
        "\n",
        "| 구분 | 내용 |\n",
        "|:---|:---|\n",
        "| **정의** | 관련 있는 변수와 함수를 하나로 묶어놓은 것 |\n",
        "| **구성 요소** | 속성(변수) + 메서드(함수) |\n",
        "| **목적** | 코드 재사용성, 관리 편의성, 확장성 향상 |\n",
        "| **사용 방법** | 클래스를 정의하고, 객체를 만들어 사용 |\n",
        "| **초기화 함수** | \\_\\_init__ 메서드를 이용해 객체 초기 설정 |\n",
        "| **self 키워드** | 클래스 내부에서 자기 자신(객체)을 가리킴 |\n",
        "| **장점** | 전역 변수 없이 상태를 저장하고 관리 가능 |\n"
      ],
      "metadata": {
        "id": "HhrxAg3Wchb_"
      }
    },
    {
      "cell_type": "markdown",
      "source": [
        "## 2) 함수 → 클래스 변환 흐름\n",
        "- 여러 개의 관련 함수를 준비한다.\n",
        "- 공통 주제를 찾고 클래스를 만든다.\n",
        "- class 클래스이름:으로 클래스를 정의한다.\n",
        "- 공통 변수가 있다면 \\_\\_init__에서 초기화한다.\n",
        "- 함수들을 클래스 메서드로 옮기고, 첫 번째 매개변수로 self를 추가한다.\n",
        "- 클래스를 사용하려면 객체를 만들고 메서드를 호출한다."
      ],
      "metadata": {
        "id": "dFwu71k9dK-c"
      }
    },
    {
      "cell_type": "markdown",
      "source": [
        "## 3) 예시\n",
        "- 함수\n",
        "```python\n",
        "def add(a, b):\n",
        "    return a + b\n",
        "print(add(3, 5))        # 출력 8\n",
        "```\n",
        "- 클래스\n",
        "```python\n",
        "class Calculator:\n",
        "    def add(self, a, b):\n",
        "        return a + b\n",
        "calc = Calculator()\n",
        "print(calc.add(3, 5))  # 출력: 8\n",
        "```"
      ],
      "metadata": {
        "id": "hiELewW5dVQE"
      }
    },
    {
      "cell_type": "markdown",
      "source": [
        "## 4) 값을 누적하는 함수를 클래스로 바꾸기"
      ],
      "metadata": {
        "id": "0d2Fsyp2eH3h"
      }
    },
    {
      "cell_type": "markdown",
      "source": [
        "```python\n",
        "class Calculator:\n",
        "    def __init__(□):\n",
        "        \"\"\"누적 합계를 0으로 초기화\"\"\"\n",
        "        □.total = 0\n",
        "\n",
        "    def total_sum(□, value):\n",
        "        \"\"\"값을 누적 합계에 추가하고 출력\"\"\"\n",
        "        □.total = □.total + value\n",
        "        print(f\"입력한 값: {□:2}, 누적 합계: {□:2}\")\n",
        "\n",
        "    def reset_total_sum(□):\n",
        "        \"\"\"누적 합계를 0으로 초기화\"\"\"\n",
        "        □.total = 0\n",
        "        print(\"누적 합계가 초기화 되었습니다.\")\n",
        "\n",
        "    def print_total_sum(□):\n",
        "        \"\"\"현재 누적 합계를 출력\"\"\"\n",
        "        print(f\"현재 누적 합계는 {□} 입니다.\")\n",
        "\n",
        "[객체 만들기]\n",
        "calc = Calculator()\n",
        "\n",
        "[메서드 호출]\n",
        "total_sum(5)              \n",
        "total_sum(10)             \n",
        "total_sum(7)              \n",
        "print_total_sum()         # 누적합 출력\n",
        "reset_total_sum()         # 누적합 초기화\n",
        "print_total_sum()         # 초기화 확인     \n",
        "\n",
        "[결과]\n",
        "입력한 값:  5, 누적 합계:  5\n",
        "입력한 값: 10, 누적 합계: 15\n",
        "입력한 값:  7, 누적 합계: 22\n",
        "현재 누적 합계는 22 입니다.\n",
        "누적 합계가 초기화 되었습니다.\n",
        "현재 누적 합계는 0 입니다.\n",
        "```"
      ],
      "metadata": {
        "id": "YeRM5LDUebsY"
      }
    },
    {
      "cell_type": "code",
      "source": [
        "# 여기에 코드 입력\n",
        "class Calculator:\n",
        "    def __init__(□):\n",
        "        \"\"\"누적 합계를 0으로 초기화\"\"\"\n",
        "        □.total = 0\n",
        "\n",
        "    def total_sum(□, value):\n",
        "        \"\"\"값을 누적 합계에 추가하고 출력\"\"\"\n",
        "        □.total = □.total + value\n",
        "        print(f\"입력한 값: {□:2}, 누적 합계: {□:2}\")\n",
        "\n",
        "    def reset_total_sum(□):\n",
        "        \"\"\"누적 합계를 0으로 초기화\"\"\"\n",
        "        □.total = 0\n",
        "        print(\"누적 합계가 초기화 되었습니다.\")\n",
        "\n",
        "    def print_total_sum(□):\n",
        "        \"\"\"현재 누적 합계를 출력\"\"\"\n",
        "        print(f\"현재 누적 합계는 {□} 입니다.\")"
      ],
      "metadata": {
        "id": "6U0okRqcgM1y"
      },
      "execution_count": null,
      "outputs": []
    },
    {
      "cell_type": "code",
      "source": [
        "# 객체 만들기\n",
        "calc = Calculator()\n",
        "# 메서드 호출\n",
        "total_sum(5)\n",
        "total_sum(10)\n",
        "total_sum(7)\n",
        "print_total_sum()         # 누적합 출력\n",
        "reset_total_sum()         # 누적합 초기화\n",
        "print_total_sum()         # 초기화 확인"
      ],
      "metadata": {
        "id": "pUsVe1c-gMQQ"
      },
      "execution_count": null,
      "outputs": []
    },
    {
      "cell_type": "code",
      "source": [],
      "metadata": {
        "id": "AQC9J7e2gTlp"
      },
      "execution_count": null,
      "outputs": []
    },
    {
      "cell_type": "code",
      "source": [],
      "metadata": {
        "id": "ye4xX3p_g12O"
      },
      "execution_count": null,
      "outputs": []
    },
    {
      "cell_type": "markdown",
      "source": [
        "# [3] 계산기 함수 만들기"
      ],
      "metadata": {
        "id": "9tY7fFzD3OXM"
      }
    },
    {
      "cell_type": "markdown",
      "source": [
        "- 두 수를 입력받아 합구하기 : add\n",
        "- 큰수에서 작은수 빼기 : subtract\n",
        "- 두수 입력받아 곱 구하기: multiply\n",
        "- 큰 수를 작은 수로 나누기 : divide\n",
        "- 첫 번째 수를 두 번째 수만큼 거듭제곱 : power\n",
        "- 여러 숫자를 입력받아 모두 더하기 : add_many\n",
        "- 호출시 값 계속 누적 : total_sum\n",
        "- 누적합 초기화 : reset_total_sum\n",
        "- 누적합계 출력 : print_total_sum"
      ],
      "metadata": {
        "id": "HiZWl5ZL-vXa"
      }
    },
    {
      "cell_type": "code",
      "source": [
        "# 여기에 코드 입력\n"
      ],
      "metadata": {
        "id": "PVY1k44uye13"
      },
      "execution_count": null,
      "outputs": []
    },
    {
      "cell_type": "code",
      "source": [
        "# 함수호출\n"
      ],
      "metadata": {
        "id": "0LACjHikykKK"
      },
      "execution_count": null,
      "outputs": []
    },
    {
      "cell_type": "code",
      "source": [],
      "metadata": {
        "id": "qLDYvr2KXSyb"
      },
      "execution_count": null,
      "outputs": []
    },
    {
      "cell_type": "code",
      "source": [],
      "metadata": {
        "id": "BOyUEgWkUrSs"
      },
      "execution_count": null,
      "outputs": []
    },
    {
      "cell_type": "markdown",
      "source": [
        "# [4] 계산기 클래스 만들기\n",
        "- 클래스 이름 : Calculator\n",
        "- 메서드 이름은 위의 함수 이름 그대로 사용하기"
      ],
      "metadata": {
        "id": "2Kp52J_8alnT"
      }
    },
    {
      "cell_type": "code",
      "source": [
        "# 여기에 코드 입력\n"
      ],
      "metadata": {
        "id": "4csXrNWNhmMn"
      },
      "execution_count": null,
      "outputs": []
    },
    {
      "cell_type": "code",
      "source": [
        "# 함수호출\n"
      ],
      "metadata": {
        "id": "vq8LAeDAhmMo"
      },
      "execution_count": null,
      "outputs": []
    },
    {
      "cell_type": "code",
      "source": [],
      "metadata": {
        "id": "y4bhY1iEhmqD"
      },
      "execution_count": null,
      "outputs": []
    },
    {
      "cell_type": "code",
      "source": [],
      "metadata": {
        "id": "XHJrR3FphQI_"
      },
      "execution_count": null,
      "outputs": []
    }
  ]
}