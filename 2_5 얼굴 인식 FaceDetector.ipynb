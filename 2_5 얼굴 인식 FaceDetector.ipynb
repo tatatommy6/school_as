{
  "cells": [
    {
      "cell_type": "markdown",
      "id": "e13ac338",
      "metadata": {
        "id": "e13ac338"
      },
      "source": [
        "### [RoboCam 라이브러리 가져오기]"
      ]
    },
    {
      "cell_type": "code",
      "execution_count": 1,
      "id": "8960b62d",
      "metadata": {
        "id": "8960b62d",
        "outputId": "3cc9d7e1-7dce-4516-905e-54eedd554e52"
      },
      "outputs": [
        {
          "name": "stdout",
          "output_type": "stream",
          "text": [
            "camera module ready\n"
          ]
        }
      ],
      "source": [
        "from RoboCam.robocam import *\n",
        "import time\n",
        "rCam = RoboCam()"
      ]
    },
    {
      "cell_type": "markdown",
      "id": "19096e4d",
      "metadata": {
        "id": "19096e4d"
      },
      "source": [
        "### [ 스트리밍 준비/시작]"
      ]
    },
    {
      "cell_type": "code",
      "execution_count": 2,
      "id": "c94c0cf6",
      "metadata": {
        "id": "c94c0cf6",
        "outputId": "ad5b07c6-07df-403a-8dc2-a8fa92796255"
      },
      "outputs": [
        {
          "name": "stderr",
          "output_type": "stream",
          "text": [
            "2025-05-06 11:38:26.515 python[35689:855692] WARNING: AVCaptureDeviceTypeExternal is deprecated for Continuity Cameras. Please use AVCaptureDeviceTypeContinuityCamera and add NSCameraUseContinuityCameraDeviceType to your Info.plist.\n"
          ]
        },
        {
          "name": "stdout",
          "output_type": "stream",
          "text": [
            "webcam stream ready\n",
            "camera event module ready\n"
          ]
        }
      ],
      "source": [
        "rCam.WebcamStreamInit()\n",
        "rCam.WebcamStream()"
      ]
    },
    {
      "cell_type": "markdown",
      "id": "66c841fb",
      "metadata": {
        "id": "66c841fb"
      },
      "source": [
        "### [얼굴 감지 초기화/실행]"
      ]
    },
    {
      "cell_type": "code",
      "execution_count": 3,
      "id": "d2af723f",
      "metadata": {
        "id": "d2af723f",
        "outputId": "d146c333-4ab5-4ebf-c50d-be0ce464e455"
      },
      "outputs": [
        {
          "name": "stdout",
          "output_type": "stream",
          "text": [
            "Facedetector initialized\n"
          ]
        },
        {
          "name": "stderr",
          "output_type": "stream",
          "text": [
            "/opt/anaconda3/envs/school/lib/python3.9/site-packages/tensorflow/lite/python/interpreter.py:457: UserWarning:     Warning: tf.lite.Interpreter is deprecated and is scheduled for deletion in\n",
            "    TF 2.20. Please use the LiteRT interpreter from the ai_edge_litert package.\n",
            "    See the [migration guide](https://ai.google.dev/edge/litert/migration)\n",
            "    for details.\n",
            "    \n",
            "  warnings.warn(_INTERPRETER_DELETION_WARNING)\n",
            "INFO: Created TensorFlow Lite XNNPACK delegate for CPU.\n"
          ]
        }
      ],
      "source": [
        "rCam.FacedetectorInit()\n",
        "rCam.FacedetectorStart()"
      ]
    },
    {
      "cell_type": "markdown",
      "id": "5c7fe63c",
      "metadata": {
        "id": "5c7fe63c"
      },
      "source": [
        "### [얼굴인식 메서드]\n",
        "\n",
        "- FaceCapture(name:str, captureCount:int=5, path:str)   \n",
        ": 감지된 얼굴을 name 이름으로 captureCount 횟수 만큼 캡쳐하여 path 위치에 저장하는 함수   \n",
        "- TrainFaceData(facePath:str) : facepath에 저장된 얼굴 데이터를 얼굴구별 모듈에 학습시키는 함수\n",
        "- DeleteFaceData(name:str, facePath:str) : facepath에 저장된 name 이름을 가진 얼굴 데이터를 삭제하는 함수(데이터 삭제 이후, TrainFaceData 함수를 호출해야 얼굴구별 모듈에 적용됨)"
      ]
    },
    {
      "cell_type": "code",
      "execution_count": 4,
      "id": "73855ded",
      "metadata": {
        "id": "73855ded"
      },
      "outputs": [
        {
          "ename": "TypeError",
          "evalue": "__import__() argument 1 must be str, not None",
          "output_type": "error",
          "traceback": [
            "\u001b[0;31m---------------------------------------------------------------------------\u001b[0m",
            "\u001b[0;31mKeyError\u001b[0m                                  Traceback (most recent call last)",
            "File \u001b[0;32m/opt/anaconda3/envs/school/lib/python3.9/site-packages/pkg_resources/__init__.py:416\u001b[0m, in \u001b[0;36mget_provider\u001b[0;34m(moduleOrReq)\u001b[0m\n\u001b[1;32m    415\u001b[0m \u001b[38;5;28;01mtry\u001b[39;00m:\n\u001b[0;32m--> 416\u001b[0m     module \u001b[38;5;241m=\u001b[39m \u001b[43msys\u001b[49m\u001b[38;5;241;43m.\u001b[39;49m\u001b[43mmodules\u001b[49m\u001b[43m[\u001b[49m\u001b[43mmoduleOrReq\u001b[49m\u001b[43m]\u001b[49m\n\u001b[1;32m    417\u001b[0m \u001b[38;5;28;01mexcept\u001b[39;00m \u001b[38;5;167;01mKeyError\u001b[39;00m:\n",
            "\u001b[0;31mKeyError\u001b[0m: None",
            "\nDuring handling of the above exception, another exception occurred:\n",
            "\u001b[0;31mTypeError\u001b[0m                                 Traceback (most recent call last)",
            "Cell \u001b[0;32mIn[4], line 1\u001b[0m\n\u001b[0;32m----> 1\u001b[0m \u001b[38;5;28;01mdef\u001b[39;00m\u001b[38;5;250m \u001b[39m\u001b[38;5;21mFaceCapture\u001b[39m(\u001b[38;5;28mself\u001b[39m, name:\u001b[38;5;28mstr\u001b[39m, captureCount:\u001b[38;5;28mint\u001b[39m\u001b[38;5;241m=\u001b[39m\u001b[38;5;241m5\u001b[39m, path:\u001b[38;5;28mstr\u001b[39m\u001b[38;5;241m=\u001b[39m\u001b[43mpkg_resources\u001b[49m\u001b[38;5;241;43m.\u001b[39;49m\u001b[43mresource_filename\u001b[49m\u001b[43m(\u001b[49m\u001b[43m__package__\u001b[49m\u001b[43m,\u001b[49m\u001b[43m \u001b[49m\u001b[38;5;124;43m\"\u001b[39;49m\u001b[38;5;124;43mres/face/\u001b[39;49m\u001b[38;5;124;43m\"\u001b[39;49m\u001b[43m)\u001b[49m):\n\u001b[1;32m      2\u001b[0m     \u001b[38;5;28;01mif\u001b[39;00m platform\u001b[38;5;241m.\u001b[39msystem() \u001b[38;5;241m!=\u001b[39m \u001b[38;5;124m\"\u001b[39m\u001b[38;5;124mWindows\u001b[39m\u001b[38;5;124m\"\u001b[39m:\n\u001b[1;32m      3\u001b[0m         path\u001b[38;5;241m=\u001b[39mpath\u001b[38;5;241m.\u001b[39mreplace(\u001b[38;5;124m\"\u001b[39m\u001b[38;5;130;01m\\\\\u001b[39;00m\u001b[38;5;124m\"\u001b[39m,\u001b[38;5;124m\"\u001b[39m\u001b[38;5;124m/\u001b[39m\u001b[38;5;124m\"\u001b[39m)\n",
            "File \u001b[0;32m/opt/anaconda3/envs/school/lib/python3.9/site-packages/pkg_resources/__init__.py:1380\u001b[0m, in \u001b[0;36mResourceManager.resource_filename\u001b[0;34m(self, package_or_requirement, resource_name)\u001b[0m\n\u001b[1;32m   1376\u001b[0m \u001b[38;5;28;01mdef\u001b[39;00m\u001b[38;5;250m \u001b[39m\u001b[38;5;21mresource_filename\u001b[39m(\n\u001b[1;32m   1377\u001b[0m     \u001b[38;5;28mself\u001b[39m, package_or_requirement: _PkgReqType, resource_name: \u001b[38;5;28mstr\u001b[39m\n\u001b[1;32m   1378\u001b[0m ) \u001b[38;5;241m-\u001b[39m\u001b[38;5;241m>\u001b[39m \u001b[38;5;28mstr\u001b[39m:\n\u001b[1;32m   1379\u001b[0m \u001b[38;5;250m    \u001b[39m\u001b[38;5;124;03m\"\"\"Return a true filesystem path for specified resource\"\"\"\u001b[39;00m\n\u001b[0;32m-> 1380\u001b[0m     \u001b[38;5;28;01mreturn\u001b[39;00m \u001b[43mget_provider\u001b[49m\u001b[43m(\u001b[49m\u001b[43mpackage_or_requirement\u001b[49m\u001b[43m)\u001b[49m\u001b[38;5;241m.\u001b[39mget_resource_filename(\n\u001b[1;32m   1381\u001b[0m         \u001b[38;5;28mself\u001b[39m, resource_name\n\u001b[1;32m   1382\u001b[0m     )\n",
            "File \u001b[0;32m/opt/anaconda3/envs/school/lib/python3.9/site-packages/pkg_resources/__init__.py:418\u001b[0m, in \u001b[0;36mget_provider\u001b[0;34m(moduleOrReq)\u001b[0m\n\u001b[1;32m    416\u001b[0m     module \u001b[38;5;241m=\u001b[39m sys\u001b[38;5;241m.\u001b[39mmodules[moduleOrReq]\n\u001b[1;32m    417\u001b[0m \u001b[38;5;28;01mexcept\u001b[39;00m \u001b[38;5;167;01mKeyError\u001b[39;00m:\n\u001b[0;32m--> 418\u001b[0m     \u001b[38;5;28;43m__import__\u001b[39;49m\u001b[43m(\u001b[49m\u001b[43mmoduleOrReq\u001b[49m\u001b[43m)\u001b[49m\n\u001b[1;32m    419\u001b[0m     module \u001b[38;5;241m=\u001b[39m sys\u001b[38;5;241m.\u001b[39mmodules[moduleOrReq]\n\u001b[1;32m    420\u001b[0m loader \u001b[38;5;241m=\u001b[39m \u001b[38;5;28mgetattr\u001b[39m(module, \u001b[38;5;124m'\u001b[39m\u001b[38;5;124m__loader__\u001b[39m\u001b[38;5;124m'\u001b[39m, \u001b[38;5;28;01mNone\u001b[39;00m)\n",
            "\u001b[0;31mTypeError\u001b[0m: __import__() argument 1 must be str, not None"
          ]
        }
      ],
      "source": [
        "def FaceCapture(self, name:str, captureCount:int=5, path:str=pkg_resources.resource_filename(__package__, \"res/face/\")):\n",
        "    if platform.system() != \"Windows\":\n",
        "        path=path.replace(\"\\\\\",\"/\")\n",
        "    if bool(name) == False:\n",
        "        print(\"Name parameter is Empty.\")\n",
        "        return\n",
        "\n",
        "    if os.path.isdir(path) is False:\n",
        "        os.makedirs(path)\n",
        "\n",
        "    if self.__faceDetectFlag is False:\n",
        "        print(\"Facedetector did not run\")\n",
        "        return\n",
        "\n",
        "    cnt = 0\n",
        "    while cnt < captureCount:\n",
        "        if len(self.__faceDataDict) == 0:\n",
        "            print(\"Doesn't have a any face in Frame\")\n",
        "            continue\n",
        "\n",
        "        bbox = (0, copy.deepcopy(self.__faceDetectedList.copy())[0])\n",
        "\n",
        "        result = self.__faceR.SaveFace(self.__raw_img,bbox,name,path)\n",
        "        if result == 0:\n",
        "            cnt += 1\n",
        "            time.sleep(0.1)\n",
        "    print( name, \" is saved\")\n",
        "\n",
        "def TrainFaceData(self, facePath:str = pkg_resources.resource_filename(__package__, \"res/face/\")):\n",
        "    # print(facePath)\n",
        "    if platform.system() != \"Windows\":\n",
        "        facePath=facePath.replace(\"\\\\\",\"/\")\n",
        "    if os.path.isdir(facePath) is False:\n",
        "        print(facePath +\" is not directory.\")\n",
        "        return\n",
        "\n",
        "    if(facePath.strip()[-1] != '/'):\n",
        "        facePath += '/'\n",
        "\n",
        "    faceD = FaceDetector()\n",
        "    self.__faceR.registerd.clear()\n",
        "\n",
        "    filenames = os.listdir(facePath)\n",
        "    for filename in filenames:\n",
        "        name = os.path.basename(filename)\n",
        "        image = cv2.imread(facePath + filename, cv2.IMREAD_ANYCOLOR)\n",
        "        facedetectedList = faceD(image)\n",
        "\n",
        "        if np.any(facedetectedList) == False:\n",
        "            print(\"Doesn't have a any face in Frame\")\n",
        "            continue\n",
        "\n",
        "        name = name.split('_')[0]\n",
        "        bbox = (0, facedetectedList[0])\n",
        "        self.__faceR.TrainModel(image, bbox, name)\n",
        "\n",
        "def DeleteFaceData(self, name:str, facePath:str=pkg_resources.resource_filename(__package__, \"res/face/\")):\n",
        "    if platform.system() != \"Windows\":\n",
        "        facePath=facePath.replace(\"\\\\\",\"/\")\n",
        "    if os.path.isdir(facePath) is False:\n",
        "        print(facePath +\" is not directory.\")\n",
        "        return\n",
        "\n",
        "    if(facePath.strip()[-1] != '/'):\n",
        "        facePath += '/'\n",
        "\n",
        "    self.__faceR.RemoveFace(name, facePath)\n",
        "\n",
        "    print(name + ' is deleted')"
      ]
    },
    {
      "cell_type": "markdown",
      "id": "39cf2078",
      "metadata": {
        "id": "39cf2078"
      },
      "source": [
        "- GetFaceCount() : 인식된 얼굴의 갯수를 반환\n",
        "- GetFaceNames() : 확인된 얼굴들의 이름을 list 형태로 반환, 인식된 얼굴이 없다면 빈 리스트를 반환"
      ]
    },
    {
      "cell_type": "code",
      "execution_count": null,
      "id": "a2fd1de3",
      "metadata": {
        "id": "a2fd1de3"
      },
      "outputs": [],
      "source": [
        "def GetFaceCount(self) -> int:\n",
        "    return len(self.__faceDataDict)\n",
        "\n",
        "def GetFaceNames(self) -> list:\n",
        "    if len(self.__faceRecognizedList) == 0:\n",
        "        return []\n",
        "    return list(self.__faceRecognizedList)"
      ]
    },
    {
      "cell_type": "code",
      "execution_count": null,
      "id": "0f07707f",
      "metadata": {
        "id": "0f07707f"
      },
      "outputs": [],
      "source": []
    },
    {
      "cell_type": "markdown",
      "id": "12deffbe",
      "metadata": {
        "id": "12deffbe"
      },
      "source": [
        "### [얼굴개수 반환하기]"
      ]
    },
    {
      "cell_type": "markdown",
      "id": "oY5A6KQ7QGF3",
      "metadata": {
        "id": "oY5A6KQ7QGF3"
      },
      "source": [
        "```python\n",
        "for i in range(10):\n",
        "    x=□.□\n",
        "    print(x)\n",
        "    time.sleep(1)\n",
        "\n",
        "[결과]\n",
        "1\n",
        "2\n",
        "2\n",
        "2\n",
        "1\n",
        "1\n",
        "2\n",
        "2\n",
        "2\n",
        "1\n",
        "```"
      ]
    },
    {
      "cell_type": "code",
      "execution_count": null,
      "id": "63iDrEfjRHfw",
      "metadata": {
        "id": "63iDrEfjRHfw"
      },
      "outputs": [],
      "source": [
        "# 여기에 코드 작성\n",
        "for i in range(10):\n",
        "    x=□.□\n",
        "    print(x)\n",
        "    time.sleep(1)"
      ]
    },
    {
      "cell_type": "code",
      "execution_count": null,
      "id": "cdbPJ1CjRNuD",
      "metadata": {
        "id": "cdbPJ1CjRNuD"
      },
      "outputs": [],
      "source": []
    },
    {
      "cell_type": "code",
      "execution_count": null,
      "id": "UNS-sO5tRPHO",
      "metadata": {
        "id": "UNS-sO5tRPHO"
      },
      "outputs": [],
      "source": []
    },
    {
      "cell_type": "markdown",
      "id": "1c8a70ed",
      "metadata": {
        "id": "1c8a70ed"
      },
      "source": [
        "### [얼굴 저장하기]"
      ]
    },
    {
      "cell_type": "markdown",
      "id": "BRVeZValQG53",
      "metadata": {
        "id": "BRVeZValQG53"
      },
      "source": [
        "```python\n",
        "rCam.FaceCapture(□,20,'c:/face')\n",
        "\n",
        "[결과]\n",
        "lha  is saved\n",
        "```"
      ]
    },
    {
      "cell_type": "code",
      "execution_count": null,
      "id": "gZzku6BXRaYh",
      "metadata": {
        "id": "gZzku6BXRaYh"
      },
      "outputs": [],
      "source": [
        "# 여기에 코드 작성\n",
        "rCam.FaceCapture(□,20,'c:/face')"
      ]
    },
    {
      "cell_type": "code",
      "execution_count": null,
      "id": "OgTSDy6hRcjA",
      "metadata": {
        "id": "OgTSDy6hRcjA"
      },
      "outputs": [],
      "source": []
    },
    {
      "cell_type": "code",
      "execution_count": null,
      "id": "tfUXsSxKRdOa",
      "metadata": {
        "id": "tfUXsSxKRdOa"
      },
      "outputs": [],
      "source": []
    },
    {
      "cell_type": "markdown",
      "id": "47bc659b",
      "metadata": {
        "id": "47bc659b"
      },
      "source": [
        "### [얼굴 학습시키기]"
      ]
    },
    {
      "cell_type": "markdown",
      "id": "rvXBq1cuQIQ-",
      "metadata": {
        "id": "rvXBq1cuQIQ-"
      },
      "source": [
        "```python\n",
        "rCam.TrainFaceData(□)\n",
        "\n",
        "[결과]\n",
        "없음\n",
        "```"
      ]
    },
    {
      "cell_type": "code",
      "execution_count": null,
      "id": "CPQxaisRRswV",
      "metadata": {
        "id": "CPQxaisRRswV"
      },
      "outputs": [],
      "source": [
        "# 여기에 코드 작성\n",
        "rCam.TrainFaceData(□)"
      ]
    },
    {
      "cell_type": "code",
      "execution_count": null,
      "id": "Z9nL1WIERuiH",
      "metadata": {
        "id": "Z9nL1WIERuiH"
      },
      "outputs": [],
      "source": [
        "rCam.FaceCapture('test',20,'c:/face')"
      ]
    },
    {
      "cell_type": "code",
      "execution_count": null,
      "id": "LCjM7veVRu8a",
      "metadata": {
        "id": "LCjM7veVRu8a"
      },
      "outputs": [],
      "source": [
        "rCam.TrainFaceData('c:/face')"
      ]
    },
    {
      "cell_type": "code",
      "execution_count": null,
      "id": "bd0bfdaf",
      "metadata": {},
      "outputs": [],
      "source": [
        "rCam.DeleteFaceData('test','c:/face')"
      ]
    },
    {
      "cell_type": "markdown",
      "id": "777cee64",
      "metadata": {
        "id": "777cee64"
      },
      "source": [
        "### [학습시킨 얼굴 삭제하기]"
      ]
    },
    {
      "cell_type": "markdown",
      "id": "JO0P7RF_QJt4",
      "metadata": {
        "id": "JO0P7RF_QJt4"
      },
      "source": [
        "```python\n",
        "rCam.DeleteFaceData(□,□)\n",
        "\n",
        "[결과]\n",
        "lha is deleted\n",
        "```"
      ]
    },
    {
      "cell_type": "code",
      "execution_count": null,
      "id": "7MSKg5ZkR2A2",
      "metadata": {
        "id": "7MSKg5ZkR2A2"
      },
      "outputs": [],
      "source": [
        "# 여기에 코드 작성\n",
        "rCam.DeleteFaceData(□,□)"
      ]
    },
    {
      "cell_type": "code",
      "execution_count": null,
      "id": "KEEtJoVOR1wJ",
      "metadata": {
        "id": "KEEtJoVOR1wJ"
      },
      "outputs": [],
      "source": []
    },
    {
      "cell_type": "code",
      "execution_count": null,
      "id": "et7GK5vFR7j2",
      "metadata": {
        "id": "et7GK5vFR7j2"
      },
      "outputs": [],
      "source": []
    },
    {
      "cell_type": "markdown",
      "id": "5a20e4ad",
      "metadata": {
        "id": "5a20e4ad"
      },
      "source": [
        "### [인식된 얼굴 출력하기]\n",
        "\n",
        "- 리스트 형태로 리턴\n",
        "- 사람이 없으면 빈리스트 리턴\n",
        "- 학습 안된 사람은 ['Human0']"
      ]
    },
    {
      "cell_type": "markdown",
      "id": "SNOhgHv4QKhu",
      "metadata": {
        "id": "SNOhgHv4QKhu"
      },
      "source": [
        "```python\n",
        "x=□.□\n",
        "print(x)\n",
        "\n",
        "[결과]\n",
        "['lha', 'Human1']\n",
        "```"
      ]
    },
    {
      "cell_type": "code",
      "execution_count": null,
      "id": "bMEBXmslSN5p",
      "metadata": {
        "id": "bMEBXmslSN5p"
      },
      "outputs": [],
      "source": [
        "# 여기에 코드 작성\n"
      ]
    },
    {
      "cell_type": "code",
      "execution_count": null,
      "id": "8yRrE8peSN2-",
      "metadata": {
        "id": "8yRrE8peSN2-"
      },
      "outputs": [],
      "source": []
    },
    {
      "cell_type": "code",
      "execution_count": null,
      "id": "Ia-kJw8sSY_m",
      "metadata": {
        "id": "Ia-kJw8sSY_m"
      },
      "outputs": [],
      "source": []
    },
    {
      "cell_type": "markdown",
      "id": "MkJ7vDEKP7Zz",
      "metadata": {
        "id": "MkJ7vDEKP7Zz"
      },
      "source": [
        "### [인식된 얼굴 계속 출력하기]"
      ]
    },
    {
      "cell_type": "markdown",
      "id": "FtKD2n4zQLYh",
      "metadata": {
        "id": "FtKD2n4zQLYh"
      },
      "source": [
        "```python\n",
        "for i in range(10):\n",
        "    time.sleep(0.5)\n",
        "    face = □.□\n",
        "    print(face)\n",
        "\n",
        "[결과]\n",
        "['song']\n",
        "['lha']\n",
        "['song']\n",
        "['song']\n",
        "['song']\n",
        "['song']\n",
        "['lha']\n",
        "['lha']\n",
        "['Human0']\n",
        "['Human0']\n",
        "```"
      ]
    },
    {
      "cell_type": "code",
      "execution_count": null,
      "id": "CuCIKkxoSmeK",
      "metadata": {
        "id": "CuCIKkxoSmeK"
      },
      "outputs": [],
      "source": [
        "# 여기에 코드 작성\n",
        "for i in range(10):\n",
        "    time.sleep(0.5)\n",
        "    face = □.□\n",
        "    print(face)"
      ]
    },
    {
      "cell_type": "code",
      "execution_count": null,
      "id": "Q_kND-4pSmZ5",
      "metadata": {
        "id": "Q_kND-4pSmZ5"
      },
      "outputs": [],
      "source": []
    },
    {
      "cell_type": "code",
      "execution_count": null,
      "id": "mGFmnGP8SqZ1",
      "metadata": {
        "id": "mGFmnGP8SqZ1"
      },
      "outputs": [],
      "source": []
    },
    {
      "cell_type": "markdown",
      "id": "9cf58d50",
      "metadata": {
        "id": "9cf58d50"
      },
      "source": [
        "### [얼굴인식 될때만 출력]\n",
        "\n",
        "- 사람이 없거나 학습 안된 사람이 있는경우 continue"
      ]
    },
    {
      "cell_type": "markdown",
      "id": "14KohL6EQMZJ",
      "metadata": {
        "id": "14KohL6EQMZJ"
      },
      "source": [
        "```python\n",
        "for i in range(10):\n",
        "    time.sleep(0.5)\n",
        "    face = □.□\n",
        "\n",
        "    if □ == □.□ or □==□.□:\n",
        "        continue\n",
        "    print(face[0])\n",
        "\n",
        "[결과]\n",
        "lha\n",
        "lha\n",
        "lha\n",
        "lha\n",
        "lha\n",
        "lha\n",
        "song\n",
        "```"
      ]
    },
    {
      "cell_type": "code",
      "execution_count": null,
      "id": "YGCe_V3gTTo2",
      "metadata": {
        "id": "YGCe_V3gTTo2"
      },
      "outputs": [],
      "source": [
        "# 여기에 코드 작성\n",
        "for i in range(10):\n",
        "    time.sleep(0.5)\n",
        "    face = □.□\n",
        "\n",
        "    if □ == □.□ or □==□.□:\n",
        "        continue\n",
        "    print(face[0])"
      ]
    },
    {
      "cell_type": "code",
      "execution_count": null,
      "id": "5swht1OzTZ8c",
      "metadata": {
        "id": "5swht1OzTZ8c"
      },
      "outputs": [],
      "source": []
    },
    {
      "cell_type": "code",
      "execution_count": null,
      "id": "aa04920c",
      "metadata": {
        "id": "aa04920c"
      },
      "outputs": [],
      "source": []
    },
    {
      "cell_type": "markdown",
      "id": "7e98de69",
      "metadata": {
        "id": "7e98de69"
      },
      "source": [
        "### [얼굴인식 되면 종료]"
      ]
    },
    {
      "cell_type": "markdown",
      "id": "xdw6jgpwTdGa",
      "metadata": {
        "id": "xdw6jgpwTdGa"
      },
      "source": [
        "```python\n",
        "try:\n",
        "    while True :\n",
        "        time.sleep(0.5)\n",
        "        name = □.□\n",
        "        if □ == □ or □==□:\n",
        "            continue\n",
        "        #print(name[0])\n",
        "        if □=='lha':\n",
        "            print(f'{□} 얼굴인식완료')\n",
        "            break\n",
        "except:\n",
        "    pass\n",
        "\n",
        "[결과]\n",
        "lha 얼굴인식완료\n",
        "```"
      ]
    },
    {
      "cell_type": "code",
      "execution_count": null,
      "id": "sEA-2Og3TeIA",
      "metadata": {
        "id": "sEA-2Og3TeIA"
      },
      "outputs": [],
      "source": [
        "# 여기에 코드 작성\n",
        "try:\n",
        "    while True :\n",
        "        time.sleep(0.5)\n",
        "        name = □.□\n",
        "        if □ == □ or □==□:\n",
        "            continue\n",
        "        #print(name[0])\n",
        "        if □=='lha':\n",
        "            print(f'{□} 얼굴인식완료')\n",
        "            break\n",
        "except:\n",
        "    pass"
      ]
    },
    {
      "cell_type": "code",
      "execution_count": null,
      "id": "STpxNbbEUFnp",
      "metadata": {
        "id": "STpxNbbEUFnp"
      },
      "outputs": [],
      "source": []
    },
    {
      "cell_type": "code",
      "execution_count": null,
      "id": "30b2d3eb",
      "metadata": {
        "id": "30b2d3eb"
      },
      "outputs": [],
      "source": []
    },
    {
      "cell_type": "markdown",
      "id": "4dbb7933",
      "metadata": {
        "id": "4dbb7933"
      },
      "source": [
        "### [얼굴감지 모듈 중지]"
      ]
    },
    {
      "cell_type": "code",
      "execution_count": null,
      "id": "a3c58076",
      "metadata": {
        "id": "a3c58076",
        "outputId": "58b9bad3-f999-4f45-ad32-09f4e7db8923"
      },
      "outputs": [
        {
          "name": "stdout",
          "output_type": "stream",
          "text": [
            "Facedetector off\n"
          ]
        }
      ],
      "source": [
        "rCam.FacedetectorStop()"
      ]
    },
    {
      "cell_type": "markdown",
      "id": "c0862c47",
      "metadata": {
        "id": "c0862c47"
      },
      "source": [
        "### [영상 스트리밍 종료]"
      ]
    },
    {
      "cell_type": "code",
      "execution_count": null,
      "id": "7e1dc073",
      "metadata": {
        "id": "7e1dc073",
        "outputId": "ca5c7ffa-cfab-49d9-a448-2dafcb8074fa"
      },
      "outputs": [
        {
          "name": "stdout",
          "output_type": "stream",
          "text": [
            "Stream stopped\n",
            "Webcam off\n"
          ]
        }
      ],
      "source": [
        "rCam.WebcamStreamOff()"
      ]
    },
    {
      "cell_type": "code",
      "execution_count": null,
      "id": "3d5253c1",
      "metadata": {
        "id": "3d5253c1"
      },
      "outputs": [],
      "source": []
    }
  ],
  "metadata": {
    "colab": {
      "provenance": [],
      "toc_visible": true
    },
    "kernelspec": {
      "display_name": "school",
      "language": "python",
      "name": "python3"
    },
    "language_info": {
      "codemirror_mode": {
        "name": "ipython",
        "version": 3
      },
      "file_extension": ".py",
      "mimetype": "text/x-python",
      "name": "python",
      "nbconvert_exporter": "python",
      "pygments_lexer": "ipython3",
      "version": "3.9.21"
    }
  },
  "nbformat": 4,
  "nbformat_minor": 5
}
