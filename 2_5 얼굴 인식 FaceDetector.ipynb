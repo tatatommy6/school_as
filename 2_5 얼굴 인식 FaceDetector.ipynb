{
  "cells": [
    {
      "cell_type": "markdown",
      "id": "e13ac338",
      "metadata": {
        "id": "e13ac338"
      },
      "source": [
        "### [RoboCam 라이브러리 가져오기]"
      ]
    },
    {
      "cell_type": "code",
      "execution_count": null,
      "id": "8960b62d",
      "metadata": {
        "id": "8960b62d",
        "outputId": "3cc9d7e1-7dce-4516-905e-54eedd554e52"
      },
      "outputs": [
        {
          "name": "stdout",
          "output_type": "stream",
          "text": [
            "folders already exist\n",
            "camera module ready\n"
          ]
        }
      ],
      "source": [
        "from RoboCam.robocam import *\n",
        "import time\n",
        "rCam = RoboCam()"
      ]
    },
    {
      "cell_type": "markdown",
      "id": "19096e4d",
      "metadata": {
        "id": "19096e4d"
      },
      "source": [
        "### [ 스트리밍 준비/시작]"
      ]
    },
    {
      "cell_type": "code",
      "execution_count": null,
      "id": "c94c0cf6",
      "metadata": {
        "id": "c94c0cf6",
        "outputId": "ad5b07c6-07df-403a-8dc2-a8fa92796255"
      },
      "outputs": [
        {
          "name": "stdout",
          "output_type": "stream",
          "text": [
            "webcam stream ready\n",
            "camera event module ready\n"
          ]
        }
      ],
      "source": [
        "rCam.WebcamStreamInit()\n",
        "rCam.WebcamStream()"
      ]
    },
    {
      "cell_type": "markdown",
      "id": "66c841fb",
      "metadata": {
        "id": "66c841fb"
      },
      "source": [
        "### [얼굴 감지 초기화/실행]"
      ]
    },
    {
      "cell_type": "code",
      "execution_count": null,
      "id": "d2af723f",
      "metadata": {
        "id": "d2af723f",
        "outputId": "d146c333-4ab5-4ebf-c50d-be0ce464e455"
      },
      "outputs": [
        {
          "name": "stdout",
          "output_type": "stream",
          "text": [
            "Facedetector initialized\n"
          ]
        }
      ],
      "source": [
        "rCam.FacedetectorInit()\n",
        "rCam.FacedetectorStart()"
      ]
    },
    {
      "cell_type": "markdown",
      "id": "5c7fe63c",
      "metadata": {
        "id": "5c7fe63c"
      },
      "source": [
        "### [얼굴인식 메서드]\n",
        "\n",
        "- FaceCapture(name:str, captureCount:int=5, path:str)   \n",
        ": 감지된 얼굴을 name 이름으로 captureCount 횟수 만큼 캡쳐하여 path 위치에 저장하는 함수   \n",
        "- TrainFaceData(facePath:str) : facepath에 저장된 얼굴 데이터를 얼굴구별 모듈에 학습시키는 함수\n",
        "- DeleteFaceData(name:str, facePath:str) : facepath에 저장된 name 이름을 가진 얼굴 데이터를 삭제하는 함수(데이터 삭제 이후, TrainFaceData 함수를 호출해야 얼굴구별 모듈에 적용됨)"
      ]
    },
    {
      "cell_type": "code",
      "execution_count": null,
      "id": "73855ded",
      "metadata": {
        "id": "73855ded"
      },
      "outputs": [],
      "source": [
        "def FaceCapture(self, name:str, captureCount:int=5, path:str=pkg_resources.resource_filename(__package__, \"res/face/\")):\n",
        "    if platform.system() != \"Windows\":\n",
        "        path=path.replace(\"\\\\\",\"/\")\n",
        "    if bool(name) == False:\n",
        "        print(\"Name parameter is Empty.\")\n",
        "        return\n",
        "\n",
        "    if os.path.isdir(path) is False:\n",
        "        os.makedirs(path)\n",
        "\n",
        "    if self.__faceDetectFlag is False:\n",
        "        print(\"Facedetector did not run\")\n",
        "        return\n",
        "\n",
        "    cnt = 0\n",
        "    while cnt < captureCount:\n",
        "        if len(self.__faceDataDict) == 0:\n",
        "            print(\"Doesn't have a any face in Frame\")\n",
        "            continue\n",
        "\n",
        "        bbox = (0, copy.deepcopy(self.__faceDetectedList.copy())[0])\n",
        "\n",
        "        result = self.__faceR.SaveFace(self.__raw_img,bbox,name,path)\n",
        "        if result == 0:\n",
        "            cnt += 1\n",
        "            time.sleep(0.1)\n",
        "    print( name, \" is saved\")\n",
        "\n",
        "def TrainFaceData(self, facePath:str = pkg_resources.resource_filename(__package__, \"res/face/\")):\n",
        "    # print(facePath)\n",
        "    if platform.system() != \"Windows\":\n",
        "        facePath=facePath.replace(\"\\\\\",\"/\")\n",
        "    if os.path.isdir(facePath) is False:\n",
        "        print(facePath +\" is not directory.\")\n",
        "        return\n",
        "\n",
        "    if(facePath.strip()[-1] != '/'):\n",
        "        facePath += '/'\n",
        "\n",
        "    faceD = FaceDetector()\n",
        "    self.__faceR.registerd.clear()\n",
        "\n",
        "    filenames = os.listdir(facePath)\n",
        "    for filename in filenames:\n",
        "        name = os.path.basename(filename)\n",
        "        image = cv2.imread(facePath + filename, cv2.IMREAD_ANYCOLOR)\n",
        "        facedetectedList = faceD(image)\n",
        "\n",
        "        if np.any(facedetectedList) == False:\n",
        "            print(\"Doesn't have a any face in Frame\")\n",
        "            continue\n",
        "\n",
        "        name = name.split('_')[0]\n",
        "        bbox = (0, facedetectedList[0])\n",
        "        self.__faceR.TrainModel(image, bbox, name)\n",
        "\n",
        "def DeleteFaceData(self, name:str, facePath:str=pkg_resources.resource_filename(__package__, \"res/face/\")):\n",
        "    if platform.system() != \"Windows\":\n",
        "        facePath=facePath.replace(\"\\\\\",\"/\")\n",
        "    if os.path.isdir(facePath) is False:\n",
        "        print(facePath +\" is not directory.\")\n",
        "        return\n",
        "\n",
        "    if(facePath.strip()[-1] != '/'):\n",
        "        facePath += '/'\n",
        "\n",
        "    self.__faceR.RemoveFace(name, facePath)\n",
        "\n",
        "    print(name + ' is deleted')"
      ]
    },
    {
      "cell_type": "markdown",
      "id": "39cf2078",
      "metadata": {
        "id": "39cf2078"
      },
      "source": [
        "- GetFaceCount() : 인식된 얼굴의 갯수를 반환\n",
        "- GetFaceNames() : 확인된 얼굴들의 이름을 list 형태로 반환, 인식된 얼굴이 없다면 빈 리스트를 반환"
      ]
    },
    {
      "cell_type": "code",
      "execution_count": null,
      "id": "a2fd1de3",
      "metadata": {
        "id": "a2fd1de3"
      },
      "outputs": [],
      "source": [
        "def GetFaceCount(self) -> int:\n",
        "    return len(self.__faceDataDict)\n",
        "\n",
        "def GetFaceNames(self) -> list:\n",
        "    if len(self.__faceRecognizedList) == 0:\n",
        "        return []\n",
        "    return list(self.__faceRecognizedList)"
      ]
    },
    {
      "cell_type": "code",
      "execution_count": null,
      "id": "0f07707f",
      "metadata": {
        "id": "0f07707f"
      },
      "outputs": [],
      "source": []
    },
    {
      "cell_type": "markdown",
      "id": "12deffbe",
      "metadata": {
        "id": "12deffbe"
      },
      "source": [
        "### [얼굴개수 반환하기]"
      ]
    },
    {
      "cell_type": "markdown",
      "source": [
        "```python\n",
        "for i in range(10):\n",
        "    x=□.□\n",
        "    print(x)\n",
        "    time.sleep(1)\n",
        "\n",
        "[결과]\n",
        "1\n",
        "2\n",
        "2\n",
        "2\n",
        "1\n",
        "1\n",
        "2\n",
        "2\n",
        "2\n",
        "1\n",
        "```"
      ],
      "metadata": {
        "id": "oY5A6KQ7QGF3"
      },
      "id": "oY5A6KQ7QGF3"
    },
    {
      "cell_type": "code",
      "source": [
        "# 여기에 코드 작성\n",
        "for i in range(10):\n",
        "    x=□.□\n",
        "    print(x)\n",
        "    time.sleep(1)"
      ],
      "metadata": {
        "id": "63iDrEfjRHfw"
      },
      "id": "63iDrEfjRHfw",
      "execution_count": null,
      "outputs": []
    },
    {
      "cell_type": "code",
      "source": [],
      "metadata": {
        "id": "cdbPJ1CjRNuD"
      },
      "id": "cdbPJ1CjRNuD",
      "execution_count": null,
      "outputs": []
    },
    {
      "cell_type": "code",
      "source": [],
      "metadata": {
        "id": "UNS-sO5tRPHO"
      },
      "id": "UNS-sO5tRPHO",
      "execution_count": null,
      "outputs": []
    },
    {
      "cell_type": "markdown",
      "id": "1c8a70ed",
      "metadata": {
        "id": "1c8a70ed"
      },
      "source": [
        "### [얼굴 저장하기]"
      ]
    },
    {
      "cell_type": "markdown",
      "source": [
        "```python\n",
        "rCam.FaceCapture(□,20,'c:/face')\n",
        "\n",
        "[결과]\n",
        "lha  is saved\n",
        "```"
      ],
      "metadata": {
        "id": "BRVeZValQG53"
      },
      "id": "BRVeZValQG53"
    },
    {
      "cell_type": "code",
      "source": [
        "# 여기에 코드 작성\n",
        "rCam.FaceCapture(□,20,'c:/face')"
      ],
      "metadata": {
        "id": "gZzku6BXRaYh"
      },
      "id": "gZzku6BXRaYh",
      "execution_count": null,
      "outputs": []
    },
    {
      "cell_type": "code",
      "source": [],
      "metadata": {
        "id": "OgTSDy6hRcjA"
      },
      "id": "OgTSDy6hRcjA",
      "execution_count": null,
      "outputs": []
    },
    {
      "cell_type": "code",
      "source": [],
      "metadata": {
        "id": "tfUXsSxKRdOa"
      },
      "id": "tfUXsSxKRdOa",
      "execution_count": null,
      "outputs": []
    },
    {
      "cell_type": "markdown",
      "id": "47bc659b",
      "metadata": {
        "id": "47bc659b"
      },
      "source": [
        "### [얼굴 학습시키기]"
      ]
    },
    {
      "cell_type": "markdown",
      "source": [
        "```python\n",
        "rCam.TrainFaceData(□)\n",
        "\n",
        "[결과]\n",
        "없음\n",
        "```"
      ],
      "metadata": {
        "id": "rvXBq1cuQIQ-"
      },
      "id": "rvXBq1cuQIQ-"
    },
    {
      "cell_type": "code",
      "source": [
        "# 여기에 코드 작성\n",
        "rCam.TrainFaceData(□)"
      ],
      "metadata": {
        "id": "CPQxaisRRswV"
      },
      "id": "CPQxaisRRswV",
      "execution_count": null,
      "outputs": []
    },
    {
      "cell_type": "code",
      "source": [],
      "metadata": {
        "id": "Z9nL1WIERuiH"
      },
      "id": "Z9nL1WIERuiH",
      "execution_count": null,
      "outputs": []
    },
    {
      "cell_type": "code",
      "source": [],
      "metadata": {
        "id": "LCjM7veVRu8a"
      },
      "id": "LCjM7veVRu8a",
      "execution_count": null,
      "outputs": []
    },
    {
      "cell_type": "markdown",
      "id": "777cee64",
      "metadata": {
        "id": "777cee64"
      },
      "source": [
        "### [학습시킨 얼굴 삭제하기]"
      ]
    },
    {
      "cell_type": "markdown",
      "source": [
        "```python\n",
        "rCam.DeleteFaceData(□,□)\n",
        "\n",
        "[결과]\n",
        "lha is deleted\n",
        "```"
      ],
      "metadata": {
        "id": "JO0P7RF_QJt4"
      },
      "id": "JO0P7RF_QJt4"
    },
    {
      "cell_type": "code",
      "source": [
        "# 여기에 코드 작성\n",
        "rCam.DeleteFaceData(□,□)"
      ],
      "metadata": {
        "id": "7MSKg5ZkR2A2"
      },
      "id": "7MSKg5ZkR2A2",
      "execution_count": null,
      "outputs": []
    },
    {
      "cell_type": "code",
      "source": [],
      "metadata": {
        "id": "KEEtJoVOR1wJ"
      },
      "id": "KEEtJoVOR1wJ",
      "execution_count": null,
      "outputs": []
    },
    {
      "cell_type": "code",
      "source": [],
      "metadata": {
        "id": "et7GK5vFR7j2"
      },
      "id": "et7GK5vFR7j2",
      "execution_count": null,
      "outputs": []
    },
    {
      "cell_type": "markdown",
      "id": "5a20e4ad",
      "metadata": {
        "id": "5a20e4ad"
      },
      "source": [
        "### [인식된 얼굴 출력하기]\n",
        "\n",
        "- 리스트 형태로 리턴\n",
        "- 사람이 없으면 빈리스트 리턴\n",
        "- 학습 안된 사람은 ['Human0']"
      ]
    },
    {
      "cell_type": "markdown",
      "source": [
        "```python\n",
        "x=□.□\n",
        "print(x)\n",
        "\n",
        "[결과]\n",
        "['lha', 'Human1']\n",
        "```"
      ],
      "metadata": {
        "id": "SNOhgHv4QKhu"
      },
      "id": "SNOhgHv4QKhu"
    },
    {
      "cell_type": "code",
      "source": [
        "# 여기에 코드 작성\n"
      ],
      "metadata": {
        "id": "bMEBXmslSN5p"
      },
      "id": "bMEBXmslSN5p",
      "execution_count": null,
      "outputs": []
    },
    {
      "cell_type": "code",
      "source": [],
      "metadata": {
        "id": "8yRrE8peSN2-"
      },
      "id": "8yRrE8peSN2-",
      "execution_count": null,
      "outputs": []
    },
    {
      "cell_type": "code",
      "source": [],
      "metadata": {
        "id": "Ia-kJw8sSY_m"
      },
      "id": "Ia-kJw8sSY_m",
      "execution_count": null,
      "outputs": []
    },
    {
      "cell_type": "markdown",
      "source": [
        "### [인식된 얼굴 계속 출력하기]"
      ],
      "metadata": {
        "id": "MkJ7vDEKP7Zz"
      },
      "id": "MkJ7vDEKP7Zz"
    },
    {
      "cell_type": "markdown",
      "source": [
        "```python\n",
        "for i in range(10):\n",
        "    time.sleep(0.5)\n",
        "    face = □.□\n",
        "    print(face)\n",
        "\n",
        "[결과]\n",
        "['song']\n",
        "['lha']\n",
        "['song']\n",
        "['song']\n",
        "['song']\n",
        "['song']\n",
        "['lha']\n",
        "['lha']\n",
        "['Human0']\n",
        "['Human0']\n",
        "```"
      ],
      "metadata": {
        "id": "FtKD2n4zQLYh"
      },
      "id": "FtKD2n4zQLYh"
    },
    {
      "cell_type": "code",
      "source": [
        "# 여기에 코드 작성\n",
        "for i in range(10):\n",
        "    time.sleep(0.5)\n",
        "    face = □.□\n",
        "    print(face)"
      ],
      "metadata": {
        "id": "CuCIKkxoSmeK"
      },
      "id": "CuCIKkxoSmeK",
      "execution_count": null,
      "outputs": []
    },
    {
      "cell_type": "code",
      "source": [],
      "metadata": {
        "id": "Q_kND-4pSmZ5"
      },
      "id": "Q_kND-4pSmZ5",
      "execution_count": null,
      "outputs": []
    },
    {
      "cell_type": "code",
      "source": [],
      "metadata": {
        "id": "mGFmnGP8SqZ1"
      },
      "id": "mGFmnGP8SqZ1",
      "execution_count": null,
      "outputs": []
    },
    {
      "cell_type": "markdown",
      "id": "9cf58d50",
      "metadata": {
        "id": "9cf58d50"
      },
      "source": [
        "### [얼굴인식 될때만 출력]\n",
        "\n",
        "- 사람이 없거나 학습 안된 사람이 있는경우 continue"
      ]
    },
    {
      "cell_type": "markdown",
      "source": [
        "```python\n",
        "for i in range(10):\n",
        "    time.sleep(0.5)\n",
        "    face = □.□\n",
        "\n",
        "    if □ == □.□ or □==□.□:\n",
        "        continue\n",
        "    print(face[0])\n",
        "\n",
        "[결과]\n",
        "lha\n",
        "lha\n",
        "lha\n",
        "lha\n",
        "lha\n",
        "lha\n",
        "song\n",
        "```"
      ],
      "metadata": {
        "id": "14KohL6EQMZJ"
      },
      "id": "14KohL6EQMZJ"
    },
    {
      "cell_type": "code",
      "source": [
        "# 여기에 코드 작성\n",
        "for i in range(10):\n",
        "    time.sleep(0.5)\n",
        "    face = □.□\n",
        "\n",
        "    if □ == □.□ or □==□.□:\n",
        "        continue\n",
        "    print(face[0])"
      ],
      "metadata": {
        "id": "YGCe_V3gTTo2"
      },
      "id": "YGCe_V3gTTo2",
      "execution_count": null,
      "outputs": []
    },
    {
      "cell_type": "code",
      "source": [],
      "metadata": {
        "id": "5swht1OzTZ8c"
      },
      "id": "5swht1OzTZ8c",
      "execution_count": null,
      "outputs": []
    },
    {
      "cell_type": "code",
      "execution_count": null,
      "id": "aa04920c",
      "metadata": {
        "id": "aa04920c"
      },
      "outputs": [],
      "source": []
    },
    {
      "cell_type": "markdown",
      "id": "7e98de69",
      "metadata": {
        "id": "7e98de69"
      },
      "source": [
        "### [얼굴인식 되면 종료]"
      ]
    },
    {
      "cell_type": "markdown",
      "source": [
        "```python\n",
        "try:\n",
        "    while True :\n",
        "        time.sleep(0.5)\n",
        "        name = □.□\n",
        "        if □ == □ or □==□:\n",
        "            continue\n",
        "        #print(name[0])\n",
        "        if □=='lha':\n",
        "            print(f'{□} 얼굴인식완료')\n",
        "            break\n",
        "except:\n",
        "    pass\n",
        "\n",
        "[결과]\n",
        "lha 얼굴인식완료\n",
        "```"
      ],
      "metadata": {
        "id": "xdw6jgpwTdGa"
      },
      "id": "xdw6jgpwTdGa"
    },
    {
      "cell_type": "code",
      "source": [
        "# 여기에 코드 작성\n",
        "try:\n",
        "    while True :\n",
        "        time.sleep(0.5)\n",
        "        name = □.□\n",
        "        if □ == □ or □==□:\n",
        "            continue\n",
        "        #print(name[0])\n",
        "        if □=='lha':\n",
        "            print(f'{□} 얼굴인식완료')\n",
        "            break\n",
        "except:\n",
        "    pass"
      ],
      "metadata": {
        "id": "sEA-2Og3TeIA"
      },
      "id": "sEA-2Og3TeIA",
      "execution_count": null,
      "outputs": []
    },
    {
      "cell_type": "code",
      "source": [],
      "metadata": {
        "id": "STpxNbbEUFnp"
      },
      "id": "STpxNbbEUFnp",
      "execution_count": null,
      "outputs": []
    },
    {
      "cell_type": "code",
      "execution_count": null,
      "id": "30b2d3eb",
      "metadata": {
        "id": "30b2d3eb"
      },
      "outputs": [],
      "source": []
    },
    {
      "cell_type": "markdown",
      "id": "4dbb7933",
      "metadata": {
        "id": "4dbb7933"
      },
      "source": [
        "### [얼굴감지 모듈 중지]"
      ]
    },
    {
      "cell_type": "code",
      "execution_count": null,
      "id": "a3c58076",
      "metadata": {
        "id": "a3c58076",
        "outputId": "58b9bad3-f999-4f45-ad32-09f4e7db8923"
      },
      "outputs": [
        {
          "name": "stdout",
          "output_type": "stream",
          "text": [
            "Facedetector off\n"
          ]
        }
      ],
      "source": [
        "rCam.FacedetectorStop()"
      ]
    },
    {
      "cell_type": "markdown",
      "id": "c0862c47",
      "metadata": {
        "id": "c0862c47"
      },
      "source": [
        "### [영상 스트리밍 종료]"
      ]
    },
    {
      "cell_type": "code",
      "execution_count": null,
      "id": "7e1dc073",
      "metadata": {
        "id": "7e1dc073",
        "outputId": "ca5c7ffa-cfab-49d9-a448-2dafcb8074fa"
      },
      "outputs": [
        {
          "name": "stdout",
          "output_type": "stream",
          "text": [
            "Stream stopped\n",
            "Webcam off\n"
          ]
        }
      ],
      "source": [
        "rCam.WebcamStreamOff()"
      ]
    },
    {
      "cell_type": "code",
      "execution_count": null,
      "id": "3d5253c1",
      "metadata": {
        "id": "3d5253c1"
      },
      "outputs": [],
      "source": []
    }
  ],
  "metadata": {
    "colab": {
      "provenance": [],
      "toc_visible": true
    },
    "kernelspec": {
      "display_name": "Python 3 (ipykernel)",
      "language": "python",
      "name": "python3"
    },
    "language_info": {
      "codemirror_mode": {
        "name": "ipython",
        "version": 3
      },
      "file_extension": ".py",
      "mimetype": "text/x-python",
      "name": "python",
      "nbconvert_exporter": "python",
      "pygments_lexer": "ipython3",
      "version": "3.11.5"
    }
  },
  "nbformat": 4,
  "nbformat_minor": 5
}