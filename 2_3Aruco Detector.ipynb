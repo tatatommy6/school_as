{
  "cells": [
    {
      "cell_type": "markdown",
      "metadata": {
        "id": "QX23VoGtNZHC"
      },
      "source": [
        "- 아르코마커 다운로드 : https://chev.me/arucogen/"
      ]
    },
    {
      "cell_type": "markdown",
      "metadata": {
        "id": "v7j6NY1lnHlL"
      },
      "source": [
        "### [RoboCam 라이브러리 가져오기]"
      ]
    },
    {
      "cell_type": "code",
      "execution_count": 3,
      "metadata": {
        "id": "MtOfkyw7nHlN",
        "outputId": "cb1b432e-961b-4dc8-ca84-c3b086b4af1a"
      },
      "outputs": [
        {
          "name": "stdout",
          "output_type": "stream",
          "text": [
            "camera module ready\n"
          ]
        }
      ],
      "source": [
        "from RoboCam.robocam import *\n",
        "import time\n",
        "rCam = RoboCam()"
      ]
    },
    {
      "cell_type": "markdown",
      "metadata": {
        "id": "XiOwGBw7nHlO"
      },
      "source": [
        "### [ 스트리밍 준비/시작]"
      ]
    },
    {
      "cell_type": "code",
      "execution_count": 7,
      "metadata": {
        "id": "jJ9yrWgsnHlO",
        "outputId": "4ef1e87c-35e9-4566-8f86-c6757b8351aa"
      },
      "outputs": [
        {
          "name": "stdout",
          "output_type": "stream",
          "text": [
            "webcam stream ready\n",
            "camera event module ready\n"
          ]
        }
      ],
      "source": [
        "rCam.WebcamStreamInit()\n",
        "rCam.WebcamStream()"
      ]
    },
    {
      "cell_type": "markdown",
      "metadata": {
        "id": "a4uwxl7YnHlO"
      },
      "source": [
        "### [Aruco마커 탐색모듈 초기화/실행]"
      ]
    },
    {
      "cell_type": "code",
      "execution_count": 8,
      "metadata": {
        "id": "Ea09sA1unHlO",
        "outputId": "79e02819-a802-481d-85bd-ff93830efb33"
      },
      "outputs": [
        {
          "name": "stdout",
          "output_type": "stream",
          "text": [
            "Aruco detector initialized\n"
          ]
        }
      ],
      "source": [
        "rCam.ArucoDetectorInit()\n",
        "rCam.ArucoDetectorStart()"
      ]
    },
    {
      "cell_type": "markdown",
      "metadata": {
        "id": "COOs74MznHlP"
      },
      "source": [
        "### [마커 표시 함수]\n",
        "\n",
        "- DrawArucoArea(flag:bool) : 인식된 Aruco 마커의 영역을 표시할지 정하는 함수\n",
        "- DrawArucoId(flag:bool) : 인식된 Aruco 마커의 ID를 표시할지 정하는 함수\n",
        "- DrawArucoPoint(flag:bool) : 인식된 Aruco 마커의 좌표를 표시할지 정하는 함수\n",
        "- DrawArucoDistance(flag:bool) : 인식된 Aruco 마커의 거리를 표시할지 정하는 함수\n",
        "- DrawArucoSize(flag:bool) : 인식된 Aruco 마커의 사이즈를 표시할지 정하는 함수"
      ]
    },
    {
      "cell_type": "code",
      "execution_count": 9,
      "metadata": {
        "id": "xHhlfCTKnHlP"
      },
      "outputs": [],
      "source": [
        "# 마커영역 표시 여부 off\n",
        "rCam.DrawArucoArea(False)"
      ]
    },
    {
      "cell_type": "code",
      "execution_count": 10,
      "metadata": {
        "id": "luI1cR4HnHlP"
      },
      "outputs": [],
      "source": [
        "# 마커영역 표시 여부 on\n",
        "rCam.DrawArucoArea(True)"
      ]
    },
    {
      "cell_type": "code",
      "execution_count": 11,
      "metadata": {
        "id": "51qookQ1nHlP"
      },
      "outputs": [],
      "source": [
        "# 마커 ID 표시 off\n",
        "rCam.DrawArucoId(False)"
      ]
    },
    {
      "cell_type": "code",
      "execution_count": 12,
      "metadata": {
        "id": "-ki3vtpnnHlP"
      },
      "outputs": [],
      "source": [
        "# 마커 ID 표시 on\n",
        "rCam.DrawArucoId(True)"
      ]
    },
    {
      "cell_type": "code",
      "execution_count": 13,
      "metadata": {
        "id": "lswKyA4tnHlP"
      },
      "outputs": [],
      "source": [
        "# x,y 좌표 표시 off\n",
        "rCam.DrawArucoPoint(False)"
      ]
    },
    {
      "cell_type": "code",
      "execution_count": 14,
      "metadata": {
        "id": "IKYy0w1nnHlQ"
      },
      "outputs": [],
      "source": [
        "# x,y 좌표 표시 on\n",
        "rCam.DrawArucoPoint(True)"
      ]
    },
    {
      "cell_type": "code",
      "execution_count": 15,
      "metadata": {
        "id": "SuRS6CXqnHlQ"
      },
      "outputs": [],
      "source": [
        "# 마커 사이즈를 표시 off\n",
        "rCam.DrawArucoSize(False)"
      ]
    },
    {
      "cell_type": "code",
      "execution_count": 16,
      "metadata": {
        "id": "BGXmvcGdnHlQ"
      },
      "outputs": [],
      "source": [
        "# 마커 사이즈 표시 on\n",
        "rCam.DrawArucoSize(True)"
      ]
    },
    {
      "cell_type": "code",
      "execution_count": 17,
      "metadata": {
        "id": "KLQpechqnHlQ"
      },
      "outputs": [],
      "source": [
        "# 마커 거리 표시 off\n",
        "rCam.DrawArucoDistance(False)"
      ]
    },
    {
      "cell_type": "code",
      "execution_count": 18,
      "metadata": {
        "id": "JoTTZa85nHlQ"
      },
      "outputs": [],
      "source": [
        "# 마커 거리 표시 on\n",
        "rCam.DrawArucoDistance(True)"
      ]
    },
    {
      "cell_type": "markdown",
      "metadata": {
        "id": "4FmmMlqO0cx8"
      },
      "source": [
        "### [마커 인식 함수]\n",
        "\n",
        "- GetArucoId() : Aruco 마커의 고유 번호를 int 형태로 반환\n",
        "- GetArucoCount() : 인식된 Aruco 마커의 개수 반환\n",
        "- GetArucoX(id:int) : Aruco 마커 중, id에 해당하는 마커의 X 좌표 반환\n",
        "- GetArucoY(id:int) : 인식된 Aruco 마커 중, id에 해당하는 마커의 Y 좌표 반환"
      ]
    },
    {
      "cell_type": "markdown",
      "metadata": {
        "id": "2KROZ9E1nHlQ"
      },
      "source": [
        "### [마커 고유번호 출력]"
      ]
    },
    {
      "cell_type": "markdown",
      "metadata": {
        "id": "91mEgSKAHXYi"
      },
      "source": [
        "```python\n",
        "x=□.□\n",
        "print(\"id  = \", x)\n",
        "\n",
        "[결과]\n",
        "id  =  5\n",
        "```"
      ]
    },
    {
      "cell_type": "code",
      "execution_count": null,
      "metadata": {
        "id": "FDkA6apEHf6W"
      },
      "outputs": [
        {
          "ename": "SyntaxError",
          "evalue": "invalid character '□' (U+25A1) (779525264.py, line 2)",
          "output_type": "error",
          "traceback": [
            "\u001b[0;36m  Cell \u001b[0;32mIn[19], line 2\u001b[0;36m\u001b[0m\n\u001b[0;31m    x=□.□\u001b[0m\n\u001b[0m      ^\u001b[0m\n\u001b[0;31mSyntaxError\u001b[0m\u001b[0;31m:\u001b[0m invalid character '□' (U+25A1)\n"
          ]
        }
      ],
      "source": [
        "# 여기에 코드 작성\n",
        "x=.□\n",
        "print(\"id  = \", x)"
      ]
    },
    {
      "cell_type": "code",
      "execution_count": null,
      "metadata": {
        "id": "eOJUZ5K9HrXS"
      },
      "outputs": [],
      "source": []
    },
    {
      "cell_type": "code",
      "execution_count": null,
      "metadata": {
        "id": "RmWeWpcdInXE"
      },
      "outputs": [],
      "source": []
    },
    {
      "cell_type": "markdown",
      "metadata": {
        "id": "XZimkQT2IkZW"
      },
      "source": [
        "### [마커 고유번호 10번 출력]"
      ]
    },
    {
      "cell_type": "markdown",
      "metadata": {
        "id": "io-T87NjHvtj"
      },
      "source": [
        "```python\n",
        "for i in range(10):\n",
        "    x=□.□\n",
        "    print(\"id  = \", x)\n",
        "    time.sleep(1)\n",
        "\n",
        "[결과]\n",
        "id  =  1\n",
        "id  =  1\n",
        "id  =  1\n",
        "id  =  2\n",
        "id  =  2\n",
        "id  =  2\n",
        "id  =  3\n",
        "id  =  3\n",
        "id  =  3\n",
        "id  =  2\n",
        "```"
      ]
    },
    {
      "cell_type": "code",
      "execution_count": null,
      "metadata": {
        "id": "QFieQBYIH3TY"
      },
      "outputs": [],
      "source": [
        "# 여기에 코드 작성\n",
        "for i in range(10):\n",
        "    x=□.□\n",
        "    print(\"id  = \", x)\n",
        "    time.sleep(1)"
      ]
    },
    {
      "cell_type": "code",
      "execution_count": null,
      "metadata": {
        "id": "6O5Le_JZLdqm"
      },
      "outputs": [],
      "source": []
    },
    {
      "cell_type": "code",
      "execution_count": null,
      "metadata": {
        "id": "qBKK-_pDIp_F"
      },
      "outputs": [],
      "source": []
    },
    {
      "cell_type": "markdown",
      "metadata": {
        "id": "xRTh7GfWnHlQ"
      },
      "source": [
        "### [마커 인식 될때만 출력]"
      ]
    },
    {
      "cell_type": "markdown",
      "metadata": {
        "id": "Snklft1II6E4"
      },
      "source": [
        "```python\n",
        "for i in range(10):\n",
        "    time.sleep(1)\n",
        "    x=□.□\n",
        "    if x == □:\n",
        "        continue\n",
        "    print(\"id  = \", x)\n",
        "\n",
        "[결과]\n",
        "id  =  2\n",
        "id  =  1\n",
        "id  =  1\n",
        "id  =  3\n",
        "id  =  5\n",
        "```"
      ]
    },
    {
      "cell_type": "code",
      "execution_count": null,
      "metadata": {
        "id": "J94HcAA6IwSB"
      },
      "outputs": [],
      "source": [
        "# 여기에 코드 작성\n",
        "for i in range(10):\n",
        "    time.sleep(1)\n",
        "    x=□.□\n",
        "    if x == □:\n",
        "        continue\n",
        "    print(\"id  = \", x)"
      ]
    },
    {
      "cell_type": "code",
      "execution_count": null,
      "metadata": {
        "id": "fZfUmuFkLf4u"
      },
      "outputs": [],
      "source": []
    },
    {
      "cell_type": "code",
      "execution_count": null,
      "metadata": {
        "id": "KOCRvylSJnjv"
      },
      "outputs": [],
      "source": []
    },
    {
      "cell_type": "markdown",
      "metadata": {
        "id": "W4Vel4X0nHlQ"
      },
      "source": [
        "### [마커인식 무한 반복 정지버튼 누르면 정지]"
      ]
    },
    {
      "cell_type": "markdown",
      "metadata": {
        "id": "dJVF5P9hJVUx"
      },
      "source": [
        "```python\n",
        "try:\n",
        "    while True:\n",
        "        time.sleep(1)\n",
        "        x = □.□\n",
        "        if x == □:\n",
        "            continue\n",
        "        print(\"id  = \", x)\n",
        "except:\n",
        "    pass\n",
        "finally:\n",
        "    print('end')\n",
        "\n",
        "[결과]\n",
        "id  =  5\n",
        "id  =  1\n",
        "id  =  2\n",
        "id  =  4\n",
        "id  =  4\n",
        "id  =  3\n",
        "end\n",
        "```"
      ]
    },
    {
      "cell_type": "code",
      "execution_count": null,
      "metadata": {
        "id": "l4hENpShJkZx"
      },
      "outputs": [],
      "source": [
        "# 여기에 코드 작성\n",
        "try:\n",
        "    while True:\n",
        "        time.sleep(1)\n",
        "        x = □.□\n",
        "        if x == □:\n",
        "            continue\n",
        "        print(\"id  = \", x)\n",
        "except:\n",
        "    pass\n",
        "finally:\n",
        "    print('end')"
      ]
    },
    {
      "cell_type": "code",
      "execution_count": null,
      "metadata": {
        "id": "g2_PRE5ZJmx-"
      },
      "outputs": [],
      "source": []
    },
    {
      "cell_type": "code",
      "execution_count": null,
      "metadata": {
        "id": "EDBPhdD3KMSh"
      },
      "outputs": [],
      "source": []
    },
    {
      "cell_type": "markdown",
      "metadata": {
        "id": "jnVLGgrbnHlQ"
      },
      "source": [
        "### [마커인식 10번 하기]"
      ]
    },
    {
      "cell_type": "markdown",
      "metadata": {
        "id": "dMzSyN8WJw8s"
      },
      "source": [
        "```python\n",
        "cnt=1\n",
        "while True:\n",
        "    time.sleep(1)\n",
        "    x = □.□\n",
        "    if x == □:\n",
        "        continue\n",
        "    print(\"id  = \", x)\n",
        "    cnt = □ + □\n",
        "    if cnt > 10:\n",
        "        break\n",
        "print('end')\n",
        "\n",
        "[결과]\n",
        "id  =  3\n",
        "id  =  2\n",
        "id  =  1\n",
        "id  =  4\n",
        "id  =  5\n",
        "id  =  5\n",
        "id  =  4\n",
        "id  =  4\n",
        "id  =  1\n",
        "id  =  3\n",
        "end\n",
        "```"
      ]
    },
    {
      "cell_type": "code",
      "execution_count": null,
      "metadata": {
        "id": "F1yoIDpwKE9S"
      },
      "outputs": [],
      "source": [
        "# 여기에 코드 작성\n",
        "cnt=1\n",
        "while True:\n",
        "    time.sleep(1)\n",
        "    x = □.□\n",
        "    if x == □:\n",
        "        continue\n",
        "    print(\"id  = \", x)\n",
        "    cnt = □ + □\n",
        "    if cnt > 10:\n",
        "        break\n",
        "print('end')"
      ]
    },
    {
      "cell_type": "code",
      "execution_count": null,
      "metadata": {
        "id": "brpGHUSoKJhH"
      },
      "outputs": [],
      "source": []
    },
    {
      "cell_type": "code",
      "execution_count": null,
      "metadata": {
        "id": "HPZ4sPPELirH"
      },
      "outputs": [],
      "source": []
    },
    {
      "cell_type": "markdown",
      "metadata": {
        "id": "qbIdUTH0nHlR"
      },
      "source": [
        "### [마커의 X좌표 출력]"
      ]
    },
    {
      "cell_type": "markdown",
      "metadata": {
        "id": "sEjTR-9qKOMV"
      },
      "source": [
        "```python\n",
        "for i in range(10):\n",
        "    x=□.□\n",
        "    print(x)\n",
        "    time.sleep(1)\n",
        "\n",
        "[결과]\n",
        "361\n",
        "365\n",
        "269\n",
        "197\n",
        "130\n",
        "128\n",
        "232\n",
        "294\n",
        "338\n",
        "363\n",
        "```"
      ]
    },
    {
      "cell_type": "code",
      "execution_count": null,
      "metadata": {
        "id": "0w1tkN0gKixA"
      },
      "outputs": [],
      "source": [
        "# 여기에 코드 작성\n",
        "for i in range(10):\n",
        "    x=□.□\n",
        "    print(x)\n",
        "    time.sleep(1)"
      ]
    },
    {
      "cell_type": "code",
      "execution_count": null,
      "metadata": {
        "id": "lz-RhcfjLjzG"
      },
      "outputs": [],
      "source": []
    },
    {
      "cell_type": "code",
      "execution_count": null,
      "metadata": {
        "id": "YR2mUHknKoSe"
      },
      "outputs": [],
      "source": []
    },
    {
      "cell_type": "markdown",
      "metadata": {
        "id": "ZTHVkV8dnHlR"
      },
      "source": [
        "### [마커와의 거리 출력]"
      ]
    },
    {
      "cell_type": "markdown",
      "metadata": {
        "id": "ZhPZUF3gKue1"
      },
      "source": [
        "```python\n",
        "for i in range(10):\n",
        "    x=□.□\n",
        "    print(x)\n",
        "    time.sleep(1)\n",
        "\n",
        "[결과]\n",
        "7.925882248080359\n",
        "8.574579063710273\n",
        "10.022580239626413\n",
        "11.565112282548817\n",
        "14.468588624820423\n",
        "17.70037189633133\n",
        "20.893725382885773\n",
        "18.828520721336254\n",
        "16.594850691807064\n",
        "12.524099870958473\n",
        "```"
      ]
    },
    {
      "cell_type": "code",
      "execution_count": null,
      "metadata": {
        "id": "t9CdmLUOK2N8"
      },
      "outputs": [],
      "source": [
        "# 여기에 코드 작성\n",
        "for i in range(10):\n",
        "    x=□.□\n",
        "    print(x)\n",
        "    time.sleep(1)"
      ]
    },
    {
      "cell_type": "code",
      "execution_count": null,
      "metadata": {
        "id": "y68jjncUK2zs"
      },
      "outputs": [],
      "source": []
    },
    {
      "cell_type": "code",
      "execution_count": null,
      "metadata": {
        "id": "vQhuUwzcLFKH"
      },
      "outputs": [],
      "source": []
    },
    {
      "cell_type": "markdown",
      "metadata": {
        "id": "gpN4e_ienHlR"
      },
      "source": [
        "### [Aruco마커 탐색 중지]"
      ]
    },
    {
      "cell_type": "code",
      "execution_count": null,
      "metadata": {
        "id": "1qJ7Tt4wnHlR",
        "outputId": "0bb8bbfc-9329-4870-972a-f98d6dd31f6c"
      },
      "outputs": [
        {
          "name": "stdout",
          "output_type": "stream",
          "text": [
            "Aruco detector off\n"
          ]
        }
      ],
      "source": [
        "rCam.ArucoDetectorStop()"
      ]
    },
    {
      "cell_type": "markdown",
      "metadata": {
        "id": "PBR64mVdnHlR"
      },
      "source": [
        "### [영상 스트리밍 종료]"
      ]
    },
    {
      "cell_type": "code",
      "execution_count": null,
      "metadata": {
        "id": "JffrfvsAnHlR",
        "outputId": "a87d378b-ff43-469f-dd79-878c26c98a06"
      },
      "outputs": [
        {
          "name": "stdout",
          "output_type": "stream",
          "text": [
            "Webcam off\n",
            "Stream stopped\n"
          ]
        }
      ],
      "source": [
        "rCam.WebcamStreamOff()"
      ]
    },
    {
      "cell_type": "code",
      "execution_count": null,
      "metadata": {
        "id": "h_suRX9unHlR"
      },
      "outputs": [],
      "source": []
    }
  ],
  "metadata": {
    "colab": {
      "provenance": [],
      "toc_visible": true
    },
    "kernelspec": {
      "display_name": "school",
      "language": "python",
      "name": "python3"
    },
    "language_info": {
      "codemirror_mode": {
        "name": "ipython",
        "version": 3
      },
      "file_extension": ".py",
      "mimetype": "text/x-python",
      "name": "python",
      "nbconvert_exporter": "python",
      "pygments_lexer": "ipython3",
      "version": "3.9.21"
    }
  },
  "nbformat": 4,
  "nbformat_minor": 0
}
